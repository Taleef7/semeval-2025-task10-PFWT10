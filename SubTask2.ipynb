{
 "cells": [
  {
   "cell_type": "code",
   "execution_count": 1,
   "metadata": {
    "id": "xRBUsjHX17dk"
   },
   "outputs": [],
   "source": [
    "import os\n",
    "import pandas as pd\n",
    "import numpy as np\n",
    "import torch\n",
    "from sklearn.model_selection import train_test_split, GridSearchCV\n",
    "from sklearn.preprocessing import LabelEncoder\n",
    "from sklearn.feature_extraction.text import TfidfVectorizer\n",
    "from xgboost import XGBClassifier\n",
    "from transformers import BertTokenizer, BertModel\n",
    "from sklearn.metrics import accuracy_score, classification_report\n",
    "from sklearn.ensemble import RandomForestClassifier\n",
    "from sklearn.linear_model import LogisticRegression\n",
    "from sklearn.svm import SVC\n",
    "from sklearn.naive_bayes import MultinomialNB\n",
    "from sklearn.model_selection import GridSearchCV\n",
    "from transformers import BertTokenizer, BertModel\n"
   ]
  },
  {
   "cell_type": "code",
   "execution_count": 2,
   "metadata": {
    "id": "LHcWvFsLEqVP"
   },
   "outputs": [],
   "source": [
    "def load_annotations_with_taxonomy(file_path):\n",
    "    data = []\n",
    "    with open(file_path, 'r') as f:\n",
    "        for line in f:\n",
    "            fields = line.strip().split('\\t')\n",
    "            if len(fields) >= 3:\n",
    "                article_id = fields[0]\n",
    "                taxonomy_narratives = fields[1].split(';')\n",
    "                sub_narratives_full = fields[2].split(';')\n",
    "\n",
    "                # Extract taxonomy from the first narrative prefix (e.g., \"URW\", \"CC\", or \"Other\")\n",
    "                taxonomy = taxonomy_narratives[0].split(':')[0].strip()\n",
    "\n",
    "                # Extract narratives and sub-narratives, removing taxonomy prefix\n",
    "                narratives = [n.split(':', 1)[1].strip() if ':' in n else n for n in taxonomy_narratives]\n",
    "                sub_narratives = [s.split(':', 1)[1].strip() if ':' in s else s for s in sub_narratives_full]\n",
    "\n",
    "                data.append([article_id, taxonomy, narratives, sub_narratives])\n",
    "\n",
    "    return pd.DataFrame(data, columns=[\"article_id\", \"taxonomy\", \"narratives\", \"sub_narratives\"])"
   ]
  },
  {
   "cell_type": "code",
   "execution_count": 3,
   "metadata": {
    "id": "eR11J_QQEyMe"
   },
   "outputs": [],
   "source": [
    "def load_all_articles(raw_documents_folder):\n",
    "    articles = {}\n",
    "    for filename in os.listdir(raw_documents_folder):\n",
    "        if filename.endswith(\".txt\"):\n",
    "            article_id = filename.split('.')[0]\n",
    "            with open(os.path.join(raw_documents_folder, filename), 'r', encoding='utf-8') as f:\n",
    "                articles[article_id] = f.read()\n",
    "    return articles"
   ]
  },
  {
   "cell_type": "code",
   "execution_count": 4,
   "metadata": {
    "id": "yi4gc_UyE2zI"
   },
   "outputs": [],
   "source": [
    "annotations = load_annotations_with_taxonomy('./EN/subtask-2-annotations.txt')\n",
    "articles = load_all_articles('./EN/raw-documents')"
   ]
  },
  {
   "cell_type": "code",
   "execution_count": 5,
   "metadata": {},
   "outputs": [],
   "source": [
    "tokenizer = BertTokenizer.from_pretrained('bert-base-uncased')\n",
    "bert_model = BertModel.from_pretrained('bert-base-uncased')\n",
    "def get_bert_embeddings(texts):\n",
    "    embeddings = []\n",
    "    for text in texts:\n",
    "        # Tokenize and create input tensors\n",
    "        inputs = tokenizer(text, return_tensors='pt', padding=True, truncation=True, max_length=512)\n",
    "        \n",
    "        # Get model outputs\n",
    "        with torch.no_grad():\n",
    "            outputs = bert_model(**inputs)\n",
    "        \n",
    "        # Extract [CLS] token embedding\n",
    "        cls_embedding = outputs.last_hidden_state[:, 0, :].squeeze().numpy()\n",
    "        embeddings.append(cls_embedding)\n",
    "    \n",
    "    return np.array(embeddings)"
   ]
  },
  {
   "cell_type": "code",
   "execution_count": 18,
   "metadata": {
    "colab": {
     "base_uri": "https://localhost:8080/"
    },
    "id": "Gabtg_VRXQUI",
    "outputId": "f6a2cbc8-13c5-4cac-e401-effa365c9a3a"
   },
   "outputs": [],
   "source": [
    "# Prepare the taxonomy data and load corresponding text content\n",
    "taxonomy_encoder = LabelEncoder()\n",
    "annotations['taxonomy_encoded'] = taxonomy_encoder.fit_transform(annotations['taxonomy'])\n",
    "\n",
    "texts = []\n",
    "taxonomies = annotations['taxonomy_encoded'].tolist()\n",
    "for article_id in annotations['article_id']:\n",
    "    text = articles.get(article_id.split('.')[0], \"\")\n",
    "    texts.append(text)\n",
    "\n",
    "\n",
    "# Split the dataset into train and test sets\n",
    "X_train, X_test, y_train, y_test = train_test_split(texts, taxonomies, test_size=0.2, random_state=42)\n",
    "\n",
    "# TF-IDF Vectorization of the text data\n",
    "\n",
    "embedding = TfidfVectorizer(max_features=700, ngram_range=(1, 5), min_df=5, max_df=0.8, sublinear_tf=False)\n",
    "X_train_embed = get_bert_embeddings(X_train)\n",
    "X_test_embed = get_bert_embeddings(X_test)\n",
    "#X_train_embed = embedding.fit_transform(X_train)\n",
    "#X_test_embed = embedding.transform(X_test)"
   ]
  },
  {
   "cell_type": "code",
   "execution_count": 24,
   "metadata": {},
   "outputs": [
    {
     "name": "stdout",
     "output_type": "stream",
     "text": [
      "Accuracy: 75.0%\n",
      "Classification Report:\n",
      "               precision    recall  f1-score   support\n",
      "\n",
      "          CC       0.40      0.29      0.33         7\n",
      "       Other       0.75      0.83      0.79        18\n",
      "         URW       0.87      0.87      0.87        15\n",
      "\n",
      "    accuracy                           0.75        40\n",
      "   macro avg       0.67      0.66      0.66        40\n",
      "weighted avg       0.73      0.75      0.74        40\n",
      "\n"
     ]
    }
   ],
   "source": [
    "model = XGBClassifier(max_depth=6, n_estimators=100, learning_rate=0.72, subsample=0.8, colsample_bytree=0.4, objective='multi: softmax', num_class=3)\n",
    "#model = LogisticRegression(max_iter=1603, solver = 'lbfgs', penalty='l2', C=3)\n",
    "#model = SVC(kernel='linear', degree=5, C=2, probability=False)\n",
    "#model = MultinomialNB() #(0 Precision For CC)\n",
    "#model = RandomForestClassifier(n_estimators=200, max_depth=6, min_samples_split=5, min_samples_leaf=10, random_state=42)\n",
    "\n",
    "model.fit(X_train_embed, y_train)\n",
    "y_pred = model.predict(X_test_embed)\n",
    "accuracy = accuracy_score(y_test, y_pred)\n",
    "print(f\"Accuracy: {accuracy*100}%\")\n",
    "classification_rep = classification_report(y_test, y_pred, target_names=taxonomy_encoder.classes_)\n",
    "print(\"Classification Report:\\n\", classification_rep)"
   ]
  },
  {
   "cell_type": "code",
   "execution_count": 7,
   "metadata": {},
   "outputs": [],
   "source": [
    "from sklearn.preprocessing import MultiLabelBinarizer\n",
    "xgb_model = XGBClassifier(max_depth=6, n_estimators=100, learning_rate=0.72, subsample=0.8, colsample_bytree=0.4, objective='multi: softmax', num_class=3)\n"
   ]
  }
 ],
 "metadata": {
  "accelerator": "GPU",
  "colab": {
   "gpuType": "T4",
   "provenance": []
  },
  "kernelspec": {
   "display_name": "Python 3",
   "name": "python3"
  },
  "language_info": {
   "codemirror_mode": {
    "name": "ipython",
    "version": 3
   },
   "file_extension": ".py",
   "mimetype": "text/x-python",
   "name": "python",
   "nbconvert_exporter": "python",
   "pygments_lexer": "ipython3",
   "version": "3.12.5"
  }
 },
 "nbformat": 4,
 "nbformat_minor": 0
}
