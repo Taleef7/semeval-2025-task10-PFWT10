{
  "nbformat": 4,
  "nbformat_minor": 0,
  "metadata": {
    "colab": {
      "provenance": [],
      "gpuType": "T4"
    },
    "kernelspec": {
      "name": "python3",
      "display_name": "Python 3"
    },
    "language_info": {
      "name": "python"
    },
    "accelerator": "GPU",
    "widgets": {
      "application/vnd.jupyter.widget-state+json": {
        "47062bc3df7b4bc1910fd2c4e6b392b8": {
          "model_module": "@jupyter-widgets/controls",
          "model_name": "HBoxModel",
          "model_module_version": "1.5.0",
          "state": {
            "_dom_classes": [],
            "_model_module": "@jupyter-widgets/controls",
            "_model_module_version": "1.5.0",
            "_model_name": "HBoxModel",
            "_view_count": null,
            "_view_module": "@jupyter-widgets/controls",
            "_view_module_version": "1.5.0",
            "_view_name": "HBoxView",
            "box_style": "",
            "children": [
              "IPY_MODEL_81e902744ec14481b4422d7847e2c10c",
              "IPY_MODEL_b891a95e64804bd5b7665873a64cf28a",
              "IPY_MODEL_b35035e57c3d4f2582b82e654f7d6f8e"
            ],
            "layout": "IPY_MODEL_56cb8f9465524258b2d3436cb66ba2b3"
          }
        },
        "81e902744ec14481b4422d7847e2c10c": {
          "model_module": "@jupyter-widgets/controls",
          "model_name": "HTMLModel",
          "model_module_version": "1.5.0",
          "state": {
            "_dom_classes": [],
            "_model_module": "@jupyter-widgets/controls",
            "_model_module_version": "1.5.0",
            "_model_name": "HTMLModel",
            "_view_count": null,
            "_view_module": "@jupyter-widgets/controls",
            "_view_module_version": "1.5.0",
            "_view_name": "HTMLView",
            "description": "",
            "description_tooltip": null,
            "layout": "IPY_MODEL_cf7475770d5345bdb829d2e3c6af6f7f",
            "placeholder": "​",
            "style": "IPY_MODEL_71374cb8ef3449ab9197629747401ce9",
            "value": "tokenizer_config.json: 100%"
          }
        },
        "b891a95e64804bd5b7665873a64cf28a": {
          "model_module": "@jupyter-widgets/controls",
          "model_name": "FloatProgressModel",
          "model_module_version": "1.5.0",
          "state": {
            "_dom_classes": [],
            "_model_module": "@jupyter-widgets/controls",
            "_model_module_version": "1.5.0",
            "_model_name": "FloatProgressModel",
            "_view_count": null,
            "_view_module": "@jupyter-widgets/controls",
            "_view_module_version": "1.5.0",
            "_view_name": "ProgressView",
            "bar_style": "success",
            "description": "",
            "description_tooltip": null,
            "layout": "IPY_MODEL_f3ca2e50bd72466babde13d2cd2db854",
            "max": 48,
            "min": 0,
            "orientation": "horizontal",
            "style": "IPY_MODEL_bc4a567edc0c4751b7971544c5c008a3",
            "value": 48
          }
        },
        "b35035e57c3d4f2582b82e654f7d6f8e": {
          "model_module": "@jupyter-widgets/controls",
          "model_name": "HTMLModel",
          "model_module_version": "1.5.0",
          "state": {
            "_dom_classes": [],
            "_model_module": "@jupyter-widgets/controls",
            "_model_module_version": "1.5.0",
            "_model_name": "HTMLModel",
            "_view_count": null,
            "_view_module": "@jupyter-widgets/controls",
            "_view_module_version": "1.5.0",
            "_view_name": "HTMLView",
            "description": "",
            "description_tooltip": null,
            "layout": "IPY_MODEL_d0d27ce070cd4c049c3f24ff453b55cc",
            "placeholder": "​",
            "style": "IPY_MODEL_44b78746c9b24e339e4b93def6b7a14f",
            "value": " 48.0/48.0 [00:00&lt;00:00, 933B/s]"
          }
        },
        "56cb8f9465524258b2d3436cb66ba2b3": {
          "model_module": "@jupyter-widgets/base",
          "model_name": "LayoutModel",
          "model_module_version": "1.2.0",
          "state": {
            "_model_module": "@jupyter-widgets/base",
            "_model_module_version": "1.2.0",
            "_model_name": "LayoutModel",
            "_view_count": null,
            "_view_module": "@jupyter-widgets/base",
            "_view_module_version": "1.2.0",
            "_view_name": "LayoutView",
            "align_content": null,
            "align_items": null,
            "align_self": null,
            "border": null,
            "bottom": null,
            "display": null,
            "flex": null,
            "flex_flow": null,
            "grid_area": null,
            "grid_auto_columns": null,
            "grid_auto_flow": null,
            "grid_auto_rows": null,
            "grid_column": null,
            "grid_gap": null,
            "grid_row": null,
            "grid_template_areas": null,
            "grid_template_columns": null,
            "grid_template_rows": null,
            "height": null,
            "justify_content": null,
            "justify_items": null,
            "left": null,
            "margin": null,
            "max_height": null,
            "max_width": null,
            "min_height": null,
            "min_width": null,
            "object_fit": null,
            "object_position": null,
            "order": null,
            "overflow": null,
            "overflow_x": null,
            "overflow_y": null,
            "padding": null,
            "right": null,
            "top": null,
            "visibility": null,
            "width": null
          }
        },
        "cf7475770d5345bdb829d2e3c6af6f7f": {
          "model_module": "@jupyter-widgets/base",
          "model_name": "LayoutModel",
          "model_module_version": "1.2.0",
          "state": {
            "_model_module": "@jupyter-widgets/base",
            "_model_module_version": "1.2.0",
            "_model_name": "LayoutModel",
            "_view_count": null,
            "_view_module": "@jupyter-widgets/base",
            "_view_module_version": "1.2.0",
            "_view_name": "LayoutView",
            "align_content": null,
            "align_items": null,
            "align_self": null,
            "border": null,
            "bottom": null,
            "display": null,
            "flex": null,
            "flex_flow": null,
            "grid_area": null,
            "grid_auto_columns": null,
            "grid_auto_flow": null,
            "grid_auto_rows": null,
            "grid_column": null,
            "grid_gap": null,
            "grid_row": null,
            "grid_template_areas": null,
            "grid_template_columns": null,
            "grid_template_rows": null,
            "height": null,
            "justify_content": null,
            "justify_items": null,
            "left": null,
            "margin": null,
            "max_height": null,
            "max_width": null,
            "min_height": null,
            "min_width": null,
            "object_fit": null,
            "object_position": null,
            "order": null,
            "overflow": null,
            "overflow_x": null,
            "overflow_y": null,
            "padding": null,
            "right": null,
            "top": null,
            "visibility": null,
            "width": null
          }
        },
        "71374cb8ef3449ab9197629747401ce9": {
          "model_module": "@jupyter-widgets/controls",
          "model_name": "DescriptionStyleModel",
          "model_module_version": "1.5.0",
          "state": {
            "_model_module": "@jupyter-widgets/controls",
            "_model_module_version": "1.5.0",
            "_model_name": "DescriptionStyleModel",
            "_view_count": null,
            "_view_module": "@jupyter-widgets/base",
            "_view_module_version": "1.2.0",
            "_view_name": "StyleView",
            "description_width": ""
          }
        },
        "f3ca2e50bd72466babde13d2cd2db854": {
          "model_module": "@jupyter-widgets/base",
          "model_name": "LayoutModel",
          "model_module_version": "1.2.0",
          "state": {
            "_model_module": "@jupyter-widgets/base",
            "_model_module_version": "1.2.0",
            "_model_name": "LayoutModel",
            "_view_count": null,
            "_view_module": "@jupyter-widgets/base",
            "_view_module_version": "1.2.0",
            "_view_name": "LayoutView",
            "align_content": null,
            "align_items": null,
            "align_self": null,
            "border": null,
            "bottom": null,
            "display": null,
            "flex": null,
            "flex_flow": null,
            "grid_area": null,
            "grid_auto_columns": null,
            "grid_auto_flow": null,
            "grid_auto_rows": null,
            "grid_column": null,
            "grid_gap": null,
            "grid_row": null,
            "grid_template_areas": null,
            "grid_template_columns": null,
            "grid_template_rows": null,
            "height": null,
            "justify_content": null,
            "justify_items": null,
            "left": null,
            "margin": null,
            "max_height": null,
            "max_width": null,
            "min_height": null,
            "min_width": null,
            "object_fit": null,
            "object_position": null,
            "order": null,
            "overflow": null,
            "overflow_x": null,
            "overflow_y": null,
            "padding": null,
            "right": null,
            "top": null,
            "visibility": null,
            "width": null
          }
        },
        "bc4a567edc0c4751b7971544c5c008a3": {
          "model_module": "@jupyter-widgets/controls",
          "model_name": "ProgressStyleModel",
          "model_module_version": "1.5.0",
          "state": {
            "_model_module": "@jupyter-widgets/controls",
            "_model_module_version": "1.5.0",
            "_model_name": "ProgressStyleModel",
            "_view_count": null,
            "_view_module": "@jupyter-widgets/base",
            "_view_module_version": "1.2.0",
            "_view_name": "StyleView",
            "bar_color": null,
            "description_width": ""
          }
        },
        "d0d27ce070cd4c049c3f24ff453b55cc": {
          "model_module": "@jupyter-widgets/base",
          "model_name": "LayoutModel",
          "model_module_version": "1.2.0",
          "state": {
            "_model_module": "@jupyter-widgets/base",
            "_model_module_version": "1.2.0",
            "_model_name": "LayoutModel",
            "_view_count": null,
            "_view_module": "@jupyter-widgets/base",
            "_view_module_version": "1.2.0",
            "_view_name": "LayoutView",
            "align_content": null,
            "align_items": null,
            "align_self": null,
            "border": null,
            "bottom": null,
            "display": null,
            "flex": null,
            "flex_flow": null,
            "grid_area": null,
            "grid_auto_columns": null,
            "grid_auto_flow": null,
            "grid_auto_rows": null,
            "grid_column": null,
            "grid_gap": null,
            "grid_row": null,
            "grid_template_areas": null,
            "grid_template_columns": null,
            "grid_template_rows": null,
            "height": null,
            "justify_content": null,
            "justify_items": null,
            "left": null,
            "margin": null,
            "max_height": null,
            "max_width": null,
            "min_height": null,
            "min_width": null,
            "object_fit": null,
            "object_position": null,
            "order": null,
            "overflow": null,
            "overflow_x": null,
            "overflow_y": null,
            "padding": null,
            "right": null,
            "top": null,
            "visibility": null,
            "width": null
          }
        },
        "44b78746c9b24e339e4b93def6b7a14f": {
          "model_module": "@jupyter-widgets/controls",
          "model_name": "DescriptionStyleModel",
          "model_module_version": "1.5.0",
          "state": {
            "_model_module": "@jupyter-widgets/controls",
            "_model_module_version": "1.5.0",
            "_model_name": "DescriptionStyleModel",
            "_view_count": null,
            "_view_module": "@jupyter-widgets/base",
            "_view_module_version": "1.2.0",
            "_view_name": "StyleView",
            "description_width": ""
          }
        },
        "9edede175b2d49ab93d15b137e5886a4": {
          "model_module": "@jupyter-widgets/controls",
          "model_name": "HBoxModel",
          "model_module_version": "1.5.0",
          "state": {
            "_dom_classes": [],
            "_model_module": "@jupyter-widgets/controls",
            "_model_module_version": "1.5.0",
            "_model_name": "HBoxModel",
            "_view_count": null,
            "_view_module": "@jupyter-widgets/controls",
            "_view_module_version": "1.5.0",
            "_view_name": "HBoxView",
            "box_style": "",
            "children": [
              "IPY_MODEL_dba9d9944d434125a6b542c568dcce41",
              "IPY_MODEL_8d5db40d209e4736a2cff0ca697a5b2b",
              "IPY_MODEL_8b4c60ec919548cdaca65bb8f6b9c5ec"
            ],
            "layout": "IPY_MODEL_e69957dcf42b4032aa1f96c6fb50d103"
          }
        },
        "dba9d9944d434125a6b542c568dcce41": {
          "model_module": "@jupyter-widgets/controls",
          "model_name": "HTMLModel",
          "model_module_version": "1.5.0",
          "state": {
            "_dom_classes": [],
            "_model_module": "@jupyter-widgets/controls",
            "_model_module_version": "1.5.0",
            "_model_name": "HTMLModel",
            "_view_count": null,
            "_view_module": "@jupyter-widgets/controls",
            "_view_module_version": "1.5.0",
            "_view_name": "HTMLView",
            "description": "",
            "description_tooltip": null,
            "layout": "IPY_MODEL_c1715133e3ac4beab62f5e24292cc045",
            "placeholder": "​",
            "style": "IPY_MODEL_c72cace99c1440978505337a85fec81b",
            "value": "vocab.txt: 100%"
          }
        },
        "8d5db40d209e4736a2cff0ca697a5b2b": {
          "model_module": "@jupyter-widgets/controls",
          "model_name": "FloatProgressModel",
          "model_module_version": "1.5.0",
          "state": {
            "_dom_classes": [],
            "_model_module": "@jupyter-widgets/controls",
            "_model_module_version": "1.5.0",
            "_model_name": "FloatProgressModel",
            "_view_count": null,
            "_view_module": "@jupyter-widgets/controls",
            "_view_module_version": "1.5.0",
            "_view_name": "ProgressView",
            "bar_style": "success",
            "description": "",
            "description_tooltip": null,
            "layout": "IPY_MODEL_b224e64dba79490983a38cbd4eafd38b",
            "max": 231508,
            "min": 0,
            "orientation": "horizontal",
            "style": "IPY_MODEL_7b72a596efa04b79a481a1fa9832c3f8",
            "value": 231508
          }
        },
        "8b4c60ec919548cdaca65bb8f6b9c5ec": {
          "model_module": "@jupyter-widgets/controls",
          "model_name": "HTMLModel",
          "model_module_version": "1.5.0",
          "state": {
            "_dom_classes": [],
            "_model_module": "@jupyter-widgets/controls",
            "_model_module_version": "1.5.0",
            "_model_name": "HTMLModel",
            "_view_count": null,
            "_view_module": "@jupyter-widgets/controls",
            "_view_module_version": "1.5.0",
            "_view_name": "HTMLView",
            "description": "",
            "description_tooltip": null,
            "layout": "IPY_MODEL_b5f16eb641d14149af5258236984374e",
            "placeholder": "​",
            "style": "IPY_MODEL_48c60dea54174201b613e542e3de1df1",
            "value": " 232k/232k [00:00&lt;00:00, 3.07MB/s]"
          }
        },
        "e69957dcf42b4032aa1f96c6fb50d103": {
          "model_module": "@jupyter-widgets/base",
          "model_name": "LayoutModel",
          "model_module_version": "1.2.0",
          "state": {
            "_model_module": "@jupyter-widgets/base",
            "_model_module_version": "1.2.0",
            "_model_name": "LayoutModel",
            "_view_count": null,
            "_view_module": "@jupyter-widgets/base",
            "_view_module_version": "1.2.0",
            "_view_name": "LayoutView",
            "align_content": null,
            "align_items": null,
            "align_self": null,
            "border": null,
            "bottom": null,
            "display": null,
            "flex": null,
            "flex_flow": null,
            "grid_area": null,
            "grid_auto_columns": null,
            "grid_auto_flow": null,
            "grid_auto_rows": null,
            "grid_column": null,
            "grid_gap": null,
            "grid_row": null,
            "grid_template_areas": null,
            "grid_template_columns": null,
            "grid_template_rows": null,
            "height": null,
            "justify_content": null,
            "justify_items": null,
            "left": null,
            "margin": null,
            "max_height": null,
            "max_width": null,
            "min_height": null,
            "min_width": null,
            "object_fit": null,
            "object_position": null,
            "order": null,
            "overflow": null,
            "overflow_x": null,
            "overflow_y": null,
            "padding": null,
            "right": null,
            "top": null,
            "visibility": null,
            "width": null
          }
        },
        "c1715133e3ac4beab62f5e24292cc045": {
          "model_module": "@jupyter-widgets/base",
          "model_name": "LayoutModel",
          "model_module_version": "1.2.0",
          "state": {
            "_model_module": "@jupyter-widgets/base",
            "_model_module_version": "1.2.0",
            "_model_name": "LayoutModel",
            "_view_count": null,
            "_view_module": "@jupyter-widgets/base",
            "_view_module_version": "1.2.0",
            "_view_name": "LayoutView",
            "align_content": null,
            "align_items": null,
            "align_self": null,
            "border": null,
            "bottom": null,
            "display": null,
            "flex": null,
            "flex_flow": null,
            "grid_area": null,
            "grid_auto_columns": null,
            "grid_auto_flow": null,
            "grid_auto_rows": null,
            "grid_column": null,
            "grid_gap": null,
            "grid_row": null,
            "grid_template_areas": null,
            "grid_template_columns": null,
            "grid_template_rows": null,
            "height": null,
            "justify_content": null,
            "justify_items": null,
            "left": null,
            "margin": null,
            "max_height": null,
            "max_width": null,
            "min_height": null,
            "min_width": null,
            "object_fit": null,
            "object_position": null,
            "order": null,
            "overflow": null,
            "overflow_x": null,
            "overflow_y": null,
            "padding": null,
            "right": null,
            "top": null,
            "visibility": null,
            "width": null
          }
        },
        "c72cace99c1440978505337a85fec81b": {
          "model_module": "@jupyter-widgets/controls",
          "model_name": "DescriptionStyleModel",
          "model_module_version": "1.5.0",
          "state": {
            "_model_module": "@jupyter-widgets/controls",
            "_model_module_version": "1.5.0",
            "_model_name": "DescriptionStyleModel",
            "_view_count": null,
            "_view_module": "@jupyter-widgets/base",
            "_view_module_version": "1.2.0",
            "_view_name": "StyleView",
            "description_width": ""
          }
        },
        "b224e64dba79490983a38cbd4eafd38b": {
          "model_module": "@jupyter-widgets/base",
          "model_name": "LayoutModel",
          "model_module_version": "1.2.0",
          "state": {
            "_model_module": "@jupyter-widgets/base",
            "_model_module_version": "1.2.0",
            "_model_name": "LayoutModel",
            "_view_count": null,
            "_view_module": "@jupyter-widgets/base",
            "_view_module_version": "1.2.0",
            "_view_name": "LayoutView",
            "align_content": null,
            "align_items": null,
            "align_self": null,
            "border": null,
            "bottom": null,
            "display": null,
            "flex": null,
            "flex_flow": null,
            "grid_area": null,
            "grid_auto_columns": null,
            "grid_auto_flow": null,
            "grid_auto_rows": null,
            "grid_column": null,
            "grid_gap": null,
            "grid_row": null,
            "grid_template_areas": null,
            "grid_template_columns": null,
            "grid_template_rows": null,
            "height": null,
            "justify_content": null,
            "justify_items": null,
            "left": null,
            "margin": null,
            "max_height": null,
            "max_width": null,
            "min_height": null,
            "min_width": null,
            "object_fit": null,
            "object_position": null,
            "order": null,
            "overflow": null,
            "overflow_x": null,
            "overflow_y": null,
            "padding": null,
            "right": null,
            "top": null,
            "visibility": null,
            "width": null
          }
        },
        "7b72a596efa04b79a481a1fa9832c3f8": {
          "model_module": "@jupyter-widgets/controls",
          "model_name": "ProgressStyleModel",
          "model_module_version": "1.5.0",
          "state": {
            "_model_module": "@jupyter-widgets/controls",
            "_model_module_version": "1.5.0",
            "_model_name": "ProgressStyleModel",
            "_view_count": null,
            "_view_module": "@jupyter-widgets/base",
            "_view_module_version": "1.2.0",
            "_view_name": "StyleView",
            "bar_color": null,
            "description_width": ""
          }
        },
        "b5f16eb641d14149af5258236984374e": {
          "model_module": "@jupyter-widgets/base",
          "model_name": "LayoutModel",
          "model_module_version": "1.2.0",
          "state": {
            "_model_module": "@jupyter-widgets/base",
            "_model_module_version": "1.2.0",
            "_model_name": "LayoutModel",
            "_view_count": null,
            "_view_module": "@jupyter-widgets/base",
            "_view_module_version": "1.2.0",
            "_view_name": "LayoutView",
            "align_content": null,
            "align_items": null,
            "align_self": null,
            "border": null,
            "bottom": null,
            "display": null,
            "flex": null,
            "flex_flow": null,
            "grid_area": null,
            "grid_auto_columns": null,
            "grid_auto_flow": null,
            "grid_auto_rows": null,
            "grid_column": null,
            "grid_gap": null,
            "grid_row": null,
            "grid_template_areas": null,
            "grid_template_columns": null,
            "grid_template_rows": null,
            "height": null,
            "justify_content": null,
            "justify_items": null,
            "left": null,
            "margin": null,
            "max_height": null,
            "max_width": null,
            "min_height": null,
            "min_width": null,
            "object_fit": null,
            "object_position": null,
            "order": null,
            "overflow": null,
            "overflow_x": null,
            "overflow_y": null,
            "padding": null,
            "right": null,
            "top": null,
            "visibility": null,
            "width": null
          }
        },
        "48c60dea54174201b613e542e3de1df1": {
          "model_module": "@jupyter-widgets/controls",
          "model_name": "DescriptionStyleModel",
          "model_module_version": "1.5.0",
          "state": {
            "_model_module": "@jupyter-widgets/controls",
            "_model_module_version": "1.5.0",
            "_model_name": "DescriptionStyleModel",
            "_view_count": null,
            "_view_module": "@jupyter-widgets/base",
            "_view_module_version": "1.2.0",
            "_view_name": "StyleView",
            "description_width": ""
          }
        },
        "f9a52a04e92e499db4f0e9d0089c3d42": {
          "model_module": "@jupyter-widgets/controls",
          "model_name": "HBoxModel",
          "model_module_version": "1.5.0",
          "state": {
            "_dom_classes": [],
            "_model_module": "@jupyter-widgets/controls",
            "_model_module_version": "1.5.0",
            "_model_name": "HBoxModel",
            "_view_count": null,
            "_view_module": "@jupyter-widgets/controls",
            "_view_module_version": "1.5.0",
            "_view_name": "HBoxView",
            "box_style": "",
            "children": [
              "IPY_MODEL_5a4144204e614559879342ee759ef22b",
              "IPY_MODEL_93f42ac607c14283b829063cde27c874",
              "IPY_MODEL_6a143f9e7af34b92a4cc7dc79984b88a"
            ],
            "layout": "IPY_MODEL_ab6a3551750142e4b5848a48610c9835"
          }
        },
        "5a4144204e614559879342ee759ef22b": {
          "model_module": "@jupyter-widgets/controls",
          "model_name": "HTMLModel",
          "model_module_version": "1.5.0",
          "state": {
            "_dom_classes": [],
            "_model_module": "@jupyter-widgets/controls",
            "_model_module_version": "1.5.0",
            "_model_name": "HTMLModel",
            "_view_count": null,
            "_view_module": "@jupyter-widgets/controls",
            "_view_module_version": "1.5.0",
            "_view_name": "HTMLView",
            "description": "",
            "description_tooltip": null,
            "layout": "IPY_MODEL_5948d90a984b49bfa6e5601a00f54935",
            "placeholder": "​",
            "style": "IPY_MODEL_28be22b6940546a6b9c6c67637f6c2e2",
            "value": "tokenizer.json: 100%"
          }
        },
        "93f42ac607c14283b829063cde27c874": {
          "model_module": "@jupyter-widgets/controls",
          "model_name": "FloatProgressModel",
          "model_module_version": "1.5.0",
          "state": {
            "_dom_classes": [],
            "_model_module": "@jupyter-widgets/controls",
            "_model_module_version": "1.5.0",
            "_model_name": "FloatProgressModel",
            "_view_count": null,
            "_view_module": "@jupyter-widgets/controls",
            "_view_module_version": "1.5.0",
            "_view_name": "ProgressView",
            "bar_style": "success",
            "description": "",
            "description_tooltip": null,
            "layout": "IPY_MODEL_2a0f62f9a127470bb3db127d5e42d0e2",
            "max": 466062,
            "min": 0,
            "orientation": "horizontal",
            "style": "IPY_MODEL_05e7e0b44095407286a6b0ca2ce0a35f",
            "value": 466062
          }
        },
        "6a143f9e7af34b92a4cc7dc79984b88a": {
          "model_module": "@jupyter-widgets/controls",
          "model_name": "HTMLModel",
          "model_module_version": "1.5.0",
          "state": {
            "_dom_classes": [],
            "_model_module": "@jupyter-widgets/controls",
            "_model_module_version": "1.5.0",
            "_model_name": "HTMLModel",
            "_view_count": null,
            "_view_module": "@jupyter-widgets/controls",
            "_view_module_version": "1.5.0",
            "_view_name": "HTMLView",
            "description": "",
            "description_tooltip": null,
            "layout": "IPY_MODEL_23b61be57bdb46e7b4a254e9fd131c8e",
            "placeholder": "​",
            "style": "IPY_MODEL_7dbd2fcd811645e5a03549f994152bc4",
            "value": " 466k/466k [00:00&lt;00:00, 3.04MB/s]"
          }
        },
        "ab6a3551750142e4b5848a48610c9835": {
          "model_module": "@jupyter-widgets/base",
          "model_name": "LayoutModel",
          "model_module_version": "1.2.0",
          "state": {
            "_model_module": "@jupyter-widgets/base",
            "_model_module_version": "1.2.0",
            "_model_name": "LayoutModel",
            "_view_count": null,
            "_view_module": "@jupyter-widgets/base",
            "_view_module_version": "1.2.0",
            "_view_name": "LayoutView",
            "align_content": null,
            "align_items": null,
            "align_self": null,
            "border": null,
            "bottom": null,
            "display": null,
            "flex": null,
            "flex_flow": null,
            "grid_area": null,
            "grid_auto_columns": null,
            "grid_auto_flow": null,
            "grid_auto_rows": null,
            "grid_column": null,
            "grid_gap": null,
            "grid_row": null,
            "grid_template_areas": null,
            "grid_template_columns": null,
            "grid_template_rows": null,
            "height": null,
            "justify_content": null,
            "justify_items": null,
            "left": null,
            "margin": null,
            "max_height": null,
            "max_width": null,
            "min_height": null,
            "min_width": null,
            "object_fit": null,
            "object_position": null,
            "order": null,
            "overflow": null,
            "overflow_x": null,
            "overflow_y": null,
            "padding": null,
            "right": null,
            "top": null,
            "visibility": null,
            "width": null
          }
        },
        "5948d90a984b49bfa6e5601a00f54935": {
          "model_module": "@jupyter-widgets/base",
          "model_name": "LayoutModel",
          "model_module_version": "1.2.0",
          "state": {
            "_model_module": "@jupyter-widgets/base",
            "_model_module_version": "1.2.0",
            "_model_name": "LayoutModel",
            "_view_count": null,
            "_view_module": "@jupyter-widgets/base",
            "_view_module_version": "1.2.0",
            "_view_name": "LayoutView",
            "align_content": null,
            "align_items": null,
            "align_self": null,
            "border": null,
            "bottom": null,
            "display": null,
            "flex": null,
            "flex_flow": null,
            "grid_area": null,
            "grid_auto_columns": null,
            "grid_auto_flow": null,
            "grid_auto_rows": null,
            "grid_column": null,
            "grid_gap": null,
            "grid_row": null,
            "grid_template_areas": null,
            "grid_template_columns": null,
            "grid_template_rows": null,
            "height": null,
            "justify_content": null,
            "justify_items": null,
            "left": null,
            "margin": null,
            "max_height": null,
            "max_width": null,
            "min_height": null,
            "min_width": null,
            "object_fit": null,
            "object_position": null,
            "order": null,
            "overflow": null,
            "overflow_x": null,
            "overflow_y": null,
            "padding": null,
            "right": null,
            "top": null,
            "visibility": null,
            "width": null
          }
        },
        "28be22b6940546a6b9c6c67637f6c2e2": {
          "model_module": "@jupyter-widgets/controls",
          "model_name": "DescriptionStyleModel",
          "model_module_version": "1.5.0",
          "state": {
            "_model_module": "@jupyter-widgets/controls",
            "_model_module_version": "1.5.0",
            "_model_name": "DescriptionStyleModel",
            "_view_count": null,
            "_view_module": "@jupyter-widgets/base",
            "_view_module_version": "1.2.0",
            "_view_name": "StyleView",
            "description_width": ""
          }
        },
        "2a0f62f9a127470bb3db127d5e42d0e2": {
          "model_module": "@jupyter-widgets/base",
          "model_name": "LayoutModel",
          "model_module_version": "1.2.0",
          "state": {
            "_model_module": "@jupyter-widgets/base",
            "_model_module_version": "1.2.0",
            "_model_name": "LayoutModel",
            "_view_count": null,
            "_view_module": "@jupyter-widgets/base",
            "_view_module_version": "1.2.0",
            "_view_name": "LayoutView",
            "align_content": null,
            "align_items": null,
            "align_self": null,
            "border": null,
            "bottom": null,
            "display": null,
            "flex": null,
            "flex_flow": null,
            "grid_area": null,
            "grid_auto_columns": null,
            "grid_auto_flow": null,
            "grid_auto_rows": null,
            "grid_column": null,
            "grid_gap": null,
            "grid_row": null,
            "grid_template_areas": null,
            "grid_template_columns": null,
            "grid_template_rows": null,
            "height": null,
            "justify_content": null,
            "justify_items": null,
            "left": null,
            "margin": null,
            "max_height": null,
            "max_width": null,
            "min_height": null,
            "min_width": null,
            "object_fit": null,
            "object_position": null,
            "order": null,
            "overflow": null,
            "overflow_x": null,
            "overflow_y": null,
            "padding": null,
            "right": null,
            "top": null,
            "visibility": null,
            "width": null
          }
        },
        "05e7e0b44095407286a6b0ca2ce0a35f": {
          "model_module": "@jupyter-widgets/controls",
          "model_name": "ProgressStyleModel",
          "model_module_version": "1.5.0",
          "state": {
            "_model_module": "@jupyter-widgets/controls",
            "_model_module_version": "1.5.0",
            "_model_name": "ProgressStyleModel",
            "_view_count": null,
            "_view_module": "@jupyter-widgets/base",
            "_view_module_version": "1.2.0",
            "_view_name": "StyleView",
            "bar_color": null,
            "description_width": ""
          }
        },
        "23b61be57bdb46e7b4a254e9fd131c8e": {
          "model_module": "@jupyter-widgets/base",
          "model_name": "LayoutModel",
          "model_module_version": "1.2.0",
          "state": {
            "_model_module": "@jupyter-widgets/base",
            "_model_module_version": "1.2.0",
            "_model_name": "LayoutModel",
            "_view_count": null,
            "_view_module": "@jupyter-widgets/base",
            "_view_module_version": "1.2.0",
            "_view_name": "LayoutView",
            "align_content": null,
            "align_items": null,
            "align_self": null,
            "border": null,
            "bottom": null,
            "display": null,
            "flex": null,
            "flex_flow": null,
            "grid_area": null,
            "grid_auto_columns": null,
            "grid_auto_flow": null,
            "grid_auto_rows": null,
            "grid_column": null,
            "grid_gap": null,
            "grid_row": null,
            "grid_template_areas": null,
            "grid_template_columns": null,
            "grid_template_rows": null,
            "height": null,
            "justify_content": null,
            "justify_items": null,
            "left": null,
            "margin": null,
            "max_height": null,
            "max_width": null,
            "min_height": null,
            "min_width": null,
            "object_fit": null,
            "object_position": null,
            "order": null,
            "overflow": null,
            "overflow_x": null,
            "overflow_y": null,
            "padding": null,
            "right": null,
            "top": null,
            "visibility": null,
            "width": null
          }
        },
        "7dbd2fcd811645e5a03549f994152bc4": {
          "model_module": "@jupyter-widgets/controls",
          "model_name": "DescriptionStyleModel",
          "model_module_version": "1.5.0",
          "state": {
            "_model_module": "@jupyter-widgets/controls",
            "_model_module_version": "1.5.0",
            "_model_name": "DescriptionStyleModel",
            "_view_count": null,
            "_view_module": "@jupyter-widgets/base",
            "_view_module_version": "1.2.0",
            "_view_name": "StyleView",
            "description_width": ""
          }
        },
        "6ca9077d2dd84ecfb5dfe4db914b2206": {
          "model_module": "@jupyter-widgets/controls",
          "model_name": "HBoxModel",
          "model_module_version": "1.5.0",
          "state": {
            "_dom_classes": [],
            "_model_module": "@jupyter-widgets/controls",
            "_model_module_version": "1.5.0",
            "_model_name": "HBoxModel",
            "_view_count": null,
            "_view_module": "@jupyter-widgets/controls",
            "_view_module_version": "1.5.0",
            "_view_name": "HBoxView",
            "box_style": "",
            "children": [
              "IPY_MODEL_78315a3fd21a4cb8bcf5c1d6fcc80d73",
              "IPY_MODEL_71e4bf308086495c89288fe14df656f0",
              "IPY_MODEL_7bf2f36ab43541a98d7d441374f844a7"
            ],
            "layout": "IPY_MODEL_c5bab7622a4547ff902c7db8fdd83aaa"
          }
        },
        "78315a3fd21a4cb8bcf5c1d6fcc80d73": {
          "model_module": "@jupyter-widgets/controls",
          "model_name": "HTMLModel",
          "model_module_version": "1.5.0",
          "state": {
            "_dom_classes": [],
            "_model_module": "@jupyter-widgets/controls",
            "_model_module_version": "1.5.0",
            "_model_name": "HTMLModel",
            "_view_count": null,
            "_view_module": "@jupyter-widgets/controls",
            "_view_module_version": "1.5.0",
            "_view_name": "HTMLView",
            "description": "",
            "description_tooltip": null,
            "layout": "IPY_MODEL_7af61a0c7cb1479691218c86ac180a16",
            "placeholder": "​",
            "style": "IPY_MODEL_a35455a5d1884323a9593c16b3140a57",
            "value": "config.json: 100%"
          }
        },
        "71e4bf308086495c89288fe14df656f0": {
          "model_module": "@jupyter-widgets/controls",
          "model_name": "FloatProgressModel",
          "model_module_version": "1.5.0",
          "state": {
            "_dom_classes": [],
            "_model_module": "@jupyter-widgets/controls",
            "_model_module_version": "1.5.0",
            "_model_name": "FloatProgressModel",
            "_view_count": null,
            "_view_module": "@jupyter-widgets/controls",
            "_view_module_version": "1.5.0",
            "_view_name": "ProgressView",
            "bar_style": "success",
            "description": "",
            "description_tooltip": null,
            "layout": "IPY_MODEL_e19378065e0a48b29aea49f0eb2932eb",
            "max": 483,
            "min": 0,
            "orientation": "horizontal",
            "style": "IPY_MODEL_aed1ca580fd5496691084e0c8e27e931",
            "value": 483
          }
        },
        "7bf2f36ab43541a98d7d441374f844a7": {
          "model_module": "@jupyter-widgets/controls",
          "model_name": "HTMLModel",
          "model_module_version": "1.5.0",
          "state": {
            "_dom_classes": [],
            "_model_module": "@jupyter-widgets/controls",
            "_model_module_version": "1.5.0",
            "_model_name": "HTMLModel",
            "_view_count": null,
            "_view_module": "@jupyter-widgets/controls",
            "_view_module_version": "1.5.0",
            "_view_name": "HTMLView",
            "description": "",
            "description_tooltip": null,
            "layout": "IPY_MODEL_fbec842cd449440fba579ade530719d7",
            "placeholder": "​",
            "style": "IPY_MODEL_30a6d44d318d46f6875ec12e9a84bc5f",
            "value": " 483/483 [00:00&lt;00:00, 7.59kB/s]"
          }
        },
        "c5bab7622a4547ff902c7db8fdd83aaa": {
          "model_module": "@jupyter-widgets/base",
          "model_name": "LayoutModel",
          "model_module_version": "1.2.0",
          "state": {
            "_model_module": "@jupyter-widgets/base",
            "_model_module_version": "1.2.0",
            "_model_name": "LayoutModel",
            "_view_count": null,
            "_view_module": "@jupyter-widgets/base",
            "_view_module_version": "1.2.0",
            "_view_name": "LayoutView",
            "align_content": null,
            "align_items": null,
            "align_self": null,
            "border": null,
            "bottom": null,
            "display": null,
            "flex": null,
            "flex_flow": null,
            "grid_area": null,
            "grid_auto_columns": null,
            "grid_auto_flow": null,
            "grid_auto_rows": null,
            "grid_column": null,
            "grid_gap": null,
            "grid_row": null,
            "grid_template_areas": null,
            "grid_template_columns": null,
            "grid_template_rows": null,
            "height": null,
            "justify_content": null,
            "justify_items": null,
            "left": null,
            "margin": null,
            "max_height": null,
            "max_width": null,
            "min_height": null,
            "min_width": null,
            "object_fit": null,
            "object_position": null,
            "order": null,
            "overflow": null,
            "overflow_x": null,
            "overflow_y": null,
            "padding": null,
            "right": null,
            "top": null,
            "visibility": null,
            "width": null
          }
        },
        "7af61a0c7cb1479691218c86ac180a16": {
          "model_module": "@jupyter-widgets/base",
          "model_name": "LayoutModel",
          "model_module_version": "1.2.0",
          "state": {
            "_model_module": "@jupyter-widgets/base",
            "_model_module_version": "1.2.0",
            "_model_name": "LayoutModel",
            "_view_count": null,
            "_view_module": "@jupyter-widgets/base",
            "_view_module_version": "1.2.0",
            "_view_name": "LayoutView",
            "align_content": null,
            "align_items": null,
            "align_self": null,
            "border": null,
            "bottom": null,
            "display": null,
            "flex": null,
            "flex_flow": null,
            "grid_area": null,
            "grid_auto_columns": null,
            "grid_auto_flow": null,
            "grid_auto_rows": null,
            "grid_column": null,
            "grid_gap": null,
            "grid_row": null,
            "grid_template_areas": null,
            "grid_template_columns": null,
            "grid_template_rows": null,
            "height": null,
            "justify_content": null,
            "justify_items": null,
            "left": null,
            "margin": null,
            "max_height": null,
            "max_width": null,
            "min_height": null,
            "min_width": null,
            "object_fit": null,
            "object_position": null,
            "order": null,
            "overflow": null,
            "overflow_x": null,
            "overflow_y": null,
            "padding": null,
            "right": null,
            "top": null,
            "visibility": null,
            "width": null
          }
        },
        "a35455a5d1884323a9593c16b3140a57": {
          "model_module": "@jupyter-widgets/controls",
          "model_name": "DescriptionStyleModel",
          "model_module_version": "1.5.0",
          "state": {
            "_model_module": "@jupyter-widgets/controls",
            "_model_module_version": "1.5.0",
            "_model_name": "DescriptionStyleModel",
            "_view_count": null,
            "_view_module": "@jupyter-widgets/base",
            "_view_module_version": "1.2.0",
            "_view_name": "StyleView",
            "description_width": ""
          }
        },
        "e19378065e0a48b29aea49f0eb2932eb": {
          "model_module": "@jupyter-widgets/base",
          "model_name": "LayoutModel",
          "model_module_version": "1.2.0",
          "state": {
            "_model_module": "@jupyter-widgets/base",
            "_model_module_version": "1.2.0",
            "_model_name": "LayoutModel",
            "_view_count": null,
            "_view_module": "@jupyter-widgets/base",
            "_view_module_version": "1.2.0",
            "_view_name": "LayoutView",
            "align_content": null,
            "align_items": null,
            "align_self": null,
            "border": null,
            "bottom": null,
            "display": null,
            "flex": null,
            "flex_flow": null,
            "grid_area": null,
            "grid_auto_columns": null,
            "grid_auto_flow": null,
            "grid_auto_rows": null,
            "grid_column": null,
            "grid_gap": null,
            "grid_row": null,
            "grid_template_areas": null,
            "grid_template_columns": null,
            "grid_template_rows": null,
            "height": null,
            "justify_content": null,
            "justify_items": null,
            "left": null,
            "margin": null,
            "max_height": null,
            "max_width": null,
            "min_height": null,
            "min_width": null,
            "object_fit": null,
            "object_position": null,
            "order": null,
            "overflow": null,
            "overflow_x": null,
            "overflow_y": null,
            "padding": null,
            "right": null,
            "top": null,
            "visibility": null,
            "width": null
          }
        },
        "aed1ca580fd5496691084e0c8e27e931": {
          "model_module": "@jupyter-widgets/controls",
          "model_name": "ProgressStyleModel",
          "model_module_version": "1.5.0",
          "state": {
            "_model_module": "@jupyter-widgets/controls",
            "_model_module_version": "1.5.0",
            "_model_name": "ProgressStyleModel",
            "_view_count": null,
            "_view_module": "@jupyter-widgets/base",
            "_view_module_version": "1.2.0",
            "_view_name": "StyleView",
            "bar_color": null,
            "description_width": ""
          }
        },
        "fbec842cd449440fba579ade530719d7": {
          "model_module": "@jupyter-widgets/base",
          "model_name": "LayoutModel",
          "model_module_version": "1.2.0",
          "state": {
            "_model_module": "@jupyter-widgets/base",
            "_model_module_version": "1.2.0",
            "_model_name": "LayoutModel",
            "_view_count": null,
            "_view_module": "@jupyter-widgets/base",
            "_view_module_version": "1.2.0",
            "_view_name": "LayoutView",
            "align_content": null,
            "align_items": null,
            "align_self": null,
            "border": null,
            "bottom": null,
            "display": null,
            "flex": null,
            "flex_flow": null,
            "grid_area": null,
            "grid_auto_columns": null,
            "grid_auto_flow": null,
            "grid_auto_rows": null,
            "grid_column": null,
            "grid_gap": null,
            "grid_row": null,
            "grid_template_areas": null,
            "grid_template_columns": null,
            "grid_template_rows": null,
            "height": null,
            "justify_content": null,
            "justify_items": null,
            "left": null,
            "margin": null,
            "max_height": null,
            "max_width": null,
            "min_height": null,
            "min_width": null,
            "object_fit": null,
            "object_position": null,
            "order": null,
            "overflow": null,
            "overflow_x": null,
            "overflow_y": null,
            "padding": null,
            "right": null,
            "top": null,
            "visibility": null,
            "width": null
          }
        },
        "30a6d44d318d46f6875ec12e9a84bc5f": {
          "model_module": "@jupyter-widgets/controls",
          "model_name": "DescriptionStyleModel",
          "model_module_version": "1.5.0",
          "state": {
            "_model_module": "@jupyter-widgets/controls",
            "_model_module_version": "1.5.0",
            "_model_name": "DescriptionStyleModel",
            "_view_count": null,
            "_view_module": "@jupyter-widgets/base",
            "_view_module_version": "1.2.0",
            "_view_name": "StyleView",
            "description_width": ""
          }
        },
        "9b84cda696924c98848b8088e3dbdfec": {
          "model_module": "@jupyter-widgets/controls",
          "model_name": "HBoxModel",
          "model_module_version": "1.5.0",
          "state": {
            "_dom_classes": [],
            "_model_module": "@jupyter-widgets/controls",
            "_model_module_version": "1.5.0",
            "_model_name": "HBoxModel",
            "_view_count": null,
            "_view_module": "@jupyter-widgets/controls",
            "_view_module_version": "1.5.0",
            "_view_name": "HBoxView",
            "box_style": "",
            "children": [
              "IPY_MODEL_1b24e936f76a411fb7f0abe59e007ffd",
              "IPY_MODEL_e792924ddafc4643b341aec1c30120e4",
              "IPY_MODEL_43a0497e29b341b8b98a4affe55d9473"
            ],
            "layout": "IPY_MODEL_35a22cdcdf4048329ea50d3b358ecc35"
          }
        },
        "1b24e936f76a411fb7f0abe59e007ffd": {
          "model_module": "@jupyter-widgets/controls",
          "model_name": "HTMLModel",
          "model_module_version": "1.5.0",
          "state": {
            "_dom_classes": [],
            "_model_module": "@jupyter-widgets/controls",
            "_model_module_version": "1.5.0",
            "_model_name": "HTMLModel",
            "_view_count": null,
            "_view_module": "@jupyter-widgets/controls",
            "_view_module_version": "1.5.0",
            "_view_name": "HTMLView",
            "description": "",
            "description_tooltip": null,
            "layout": "IPY_MODEL_30f9bc45bd404bfa8e7497246b37784c",
            "placeholder": "​",
            "style": "IPY_MODEL_e365055419bb44399a6eba42ff99ce14",
            "value": "model.safetensors: 100%"
          }
        },
        "e792924ddafc4643b341aec1c30120e4": {
          "model_module": "@jupyter-widgets/controls",
          "model_name": "FloatProgressModel",
          "model_module_version": "1.5.0",
          "state": {
            "_dom_classes": [],
            "_model_module": "@jupyter-widgets/controls",
            "_model_module_version": "1.5.0",
            "_model_name": "FloatProgressModel",
            "_view_count": null,
            "_view_module": "@jupyter-widgets/controls",
            "_view_module_version": "1.5.0",
            "_view_name": "ProgressView",
            "bar_style": "success",
            "description": "",
            "description_tooltip": null,
            "layout": "IPY_MODEL_be1b5eeeefac48c98d31c34662fef3b5",
            "max": 267954768,
            "min": 0,
            "orientation": "horizontal",
            "style": "IPY_MODEL_af263054334b4eeab0cd804a54defe4c",
            "value": 267954768
          }
        },
        "43a0497e29b341b8b98a4affe55d9473": {
          "model_module": "@jupyter-widgets/controls",
          "model_name": "HTMLModel",
          "model_module_version": "1.5.0",
          "state": {
            "_dom_classes": [],
            "_model_module": "@jupyter-widgets/controls",
            "_model_module_version": "1.5.0",
            "_model_name": "HTMLModel",
            "_view_count": null,
            "_view_module": "@jupyter-widgets/controls",
            "_view_module_version": "1.5.0",
            "_view_name": "HTMLView",
            "description": "",
            "description_tooltip": null,
            "layout": "IPY_MODEL_51d0000cf4b141b989f32e20fcd51905",
            "placeholder": "​",
            "style": "IPY_MODEL_52bcde1245d743309ce156da01fc1cc2",
            "value": " 268M/268M [00:02&lt;00:00, 169MB/s]"
          }
        },
        "35a22cdcdf4048329ea50d3b358ecc35": {
          "model_module": "@jupyter-widgets/base",
          "model_name": "LayoutModel",
          "model_module_version": "1.2.0",
          "state": {
            "_model_module": "@jupyter-widgets/base",
            "_model_module_version": "1.2.0",
            "_model_name": "LayoutModel",
            "_view_count": null,
            "_view_module": "@jupyter-widgets/base",
            "_view_module_version": "1.2.0",
            "_view_name": "LayoutView",
            "align_content": null,
            "align_items": null,
            "align_self": null,
            "border": null,
            "bottom": null,
            "display": null,
            "flex": null,
            "flex_flow": null,
            "grid_area": null,
            "grid_auto_columns": null,
            "grid_auto_flow": null,
            "grid_auto_rows": null,
            "grid_column": null,
            "grid_gap": null,
            "grid_row": null,
            "grid_template_areas": null,
            "grid_template_columns": null,
            "grid_template_rows": null,
            "height": null,
            "justify_content": null,
            "justify_items": null,
            "left": null,
            "margin": null,
            "max_height": null,
            "max_width": null,
            "min_height": null,
            "min_width": null,
            "object_fit": null,
            "object_position": null,
            "order": null,
            "overflow": null,
            "overflow_x": null,
            "overflow_y": null,
            "padding": null,
            "right": null,
            "top": null,
            "visibility": null,
            "width": null
          }
        },
        "30f9bc45bd404bfa8e7497246b37784c": {
          "model_module": "@jupyter-widgets/base",
          "model_name": "LayoutModel",
          "model_module_version": "1.2.0",
          "state": {
            "_model_module": "@jupyter-widgets/base",
            "_model_module_version": "1.2.0",
            "_model_name": "LayoutModel",
            "_view_count": null,
            "_view_module": "@jupyter-widgets/base",
            "_view_module_version": "1.2.0",
            "_view_name": "LayoutView",
            "align_content": null,
            "align_items": null,
            "align_self": null,
            "border": null,
            "bottom": null,
            "display": null,
            "flex": null,
            "flex_flow": null,
            "grid_area": null,
            "grid_auto_columns": null,
            "grid_auto_flow": null,
            "grid_auto_rows": null,
            "grid_column": null,
            "grid_gap": null,
            "grid_row": null,
            "grid_template_areas": null,
            "grid_template_columns": null,
            "grid_template_rows": null,
            "height": null,
            "justify_content": null,
            "justify_items": null,
            "left": null,
            "margin": null,
            "max_height": null,
            "max_width": null,
            "min_height": null,
            "min_width": null,
            "object_fit": null,
            "object_position": null,
            "order": null,
            "overflow": null,
            "overflow_x": null,
            "overflow_y": null,
            "padding": null,
            "right": null,
            "top": null,
            "visibility": null,
            "width": null
          }
        },
        "e365055419bb44399a6eba42ff99ce14": {
          "model_module": "@jupyter-widgets/controls",
          "model_name": "DescriptionStyleModel",
          "model_module_version": "1.5.0",
          "state": {
            "_model_module": "@jupyter-widgets/controls",
            "_model_module_version": "1.5.0",
            "_model_name": "DescriptionStyleModel",
            "_view_count": null,
            "_view_module": "@jupyter-widgets/base",
            "_view_module_version": "1.2.0",
            "_view_name": "StyleView",
            "description_width": ""
          }
        },
        "be1b5eeeefac48c98d31c34662fef3b5": {
          "model_module": "@jupyter-widgets/base",
          "model_name": "LayoutModel",
          "model_module_version": "1.2.0",
          "state": {
            "_model_module": "@jupyter-widgets/base",
            "_model_module_version": "1.2.0",
            "_model_name": "LayoutModel",
            "_view_count": null,
            "_view_module": "@jupyter-widgets/base",
            "_view_module_version": "1.2.0",
            "_view_name": "LayoutView",
            "align_content": null,
            "align_items": null,
            "align_self": null,
            "border": null,
            "bottom": null,
            "display": null,
            "flex": null,
            "flex_flow": null,
            "grid_area": null,
            "grid_auto_columns": null,
            "grid_auto_flow": null,
            "grid_auto_rows": null,
            "grid_column": null,
            "grid_gap": null,
            "grid_row": null,
            "grid_template_areas": null,
            "grid_template_columns": null,
            "grid_template_rows": null,
            "height": null,
            "justify_content": null,
            "justify_items": null,
            "left": null,
            "margin": null,
            "max_height": null,
            "max_width": null,
            "min_height": null,
            "min_width": null,
            "object_fit": null,
            "object_position": null,
            "order": null,
            "overflow": null,
            "overflow_x": null,
            "overflow_y": null,
            "padding": null,
            "right": null,
            "top": null,
            "visibility": null,
            "width": null
          }
        },
        "af263054334b4eeab0cd804a54defe4c": {
          "model_module": "@jupyter-widgets/controls",
          "model_name": "ProgressStyleModel",
          "model_module_version": "1.5.0",
          "state": {
            "_model_module": "@jupyter-widgets/controls",
            "_model_module_version": "1.5.0",
            "_model_name": "ProgressStyleModel",
            "_view_count": null,
            "_view_module": "@jupyter-widgets/base",
            "_view_module_version": "1.2.0",
            "_view_name": "StyleView",
            "bar_color": null,
            "description_width": ""
          }
        },
        "51d0000cf4b141b989f32e20fcd51905": {
          "model_module": "@jupyter-widgets/base",
          "model_name": "LayoutModel",
          "model_module_version": "1.2.0",
          "state": {
            "_model_module": "@jupyter-widgets/base",
            "_model_module_version": "1.2.0",
            "_model_name": "LayoutModel",
            "_view_count": null,
            "_view_module": "@jupyter-widgets/base",
            "_view_module_version": "1.2.0",
            "_view_name": "LayoutView",
            "align_content": null,
            "align_items": null,
            "align_self": null,
            "border": null,
            "bottom": null,
            "display": null,
            "flex": null,
            "flex_flow": null,
            "grid_area": null,
            "grid_auto_columns": null,
            "grid_auto_flow": null,
            "grid_auto_rows": null,
            "grid_column": null,
            "grid_gap": null,
            "grid_row": null,
            "grid_template_areas": null,
            "grid_template_columns": null,
            "grid_template_rows": null,
            "height": null,
            "justify_content": null,
            "justify_items": null,
            "left": null,
            "margin": null,
            "max_height": null,
            "max_width": null,
            "min_height": null,
            "min_width": null,
            "object_fit": null,
            "object_position": null,
            "order": null,
            "overflow": null,
            "overflow_x": null,
            "overflow_y": null,
            "padding": null,
            "right": null,
            "top": null,
            "visibility": null,
            "width": null
          }
        },
        "52bcde1245d743309ce156da01fc1cc2": {
          "model_module": "@jupyter-widgets/controls",
          "model_name": "DescriptionStyleModel",
          "model_module_version": "1.5.0",
          "state": {
            "_model_module": "@jupyter-widgets/controls",
            "_model_module_version": "1.5.0",
            "_model_name": "DescriptionStyleModel",
            "_view_count": null,
            "_view_module": "@jupyter-widgets/base",
            "_view_module_version": "1.2.0",
            "_view_name": "StyleView",
            "description_width": ""
          }
        }
      }
    }
  },
  "cells": [
    {
      "cell_type": "markdown",
      "source": [
        "Step 1: Install Dependencies"
      ],
      "metadata": {
        "id": "6C24OQdc5PSH"
      }
    },
    {
      "cell_type": "code",
      "execution_count": 1,
      "metadata": {
        "id": "TeQzAkLl5HH4"
      },
      "outputs": [],
      "source": [
        "# !pip install transformers datasets scikit-learn pandas --upgrade"
      ]
    },
    {
      "cell_type": "markdown",
      "source": [
        "Step 2: Load and Prepare the Data"
      ],
      "metadata": {
        "id": "y-7nrlHi-had"
      }
    },
    {
      "cell_type": "code",
      "source": [
        "import pandas as pd\n",
        "\n",
        "# Custom function to handle rows with multiple fine-grained roles\n",
        "def load_annotations(file_path):\n",
        "    with open(file_path, \"r\", encoding=\"utf-8\") as f:\n",
        "        rows = []\n",
        "        for line in f:\n",
        "            parts = line.strip().split(\"\\t\")\n",
        "            article_id, entity_mention, start_offset, end_offset, main_role = parts[:5]\n",
        "            fine_grained_roles = parts[5:]  # Handle multiple fine-grained roles\n",
        "            rows.append({\n",
        "                \"article_id\": article_id,\n",
        "                \"entity_mention\": entity_mention,\n",
        "                \"start_offset\": int(start_offset),\n",
        "                \"end_offset\": int(end_offset),\n",
        "                \"main_role\": main_role,\n",
        "                \"fine_grained_roles\": fine_grained_roles,\n",
        "            })\n",
        "        return pd.DataFrame(rows)\n",
        "\n",
        "# Load the annotations file\n",
        "annotations_path = \"ENN/subtask-1-annotations.txt\"  # Replace with your file path\n",
        "annotations = load_annotations(annotations_path)\n",
        "\n",
        "# Display the first few rows\n",
        "print(annotations.head())"
      ],
      "metadata": {
        "colab": {
          "base_uri": "https://localhost:8080/"
        },
        "id": "-MHlXeVaDLqE",
        "outputId": "74f17937-7696-4b4c-a7db-916e6da0033c"
      },
      "execution_count": 2,
      "outputs": [
        {
          "output_type": "stream",
          "name": "stdout",
          "text": [
            "         article_id   entity_mention  start_offset  end_offset    main_role  \\\n",
            "0  EN_CC_100013.txt       Bill Gates            93         102   Antagonist   \n",
            "1  EN_CC_100013.txt              BBC          1860        1862   Antagonist   \n",
            "2  EN_CC_100013.txt  Jeffrey Epstein          2005        2019   Antagonist   \n",
            "3  EN_UA_300009.txt     Fail Alsynov           176         187  Protagonist   \n",
            "4  EN_UA_300009.txt   Bashkir people          1616        1629     Innocent   \n",
            "\n",
            "    fine_grained_roles  \n",
            "0  [Deceiver, Corrupt]  \n",
            "1           [Deceiver]  \n",
            "2            [Corrupt]  \n",
            "3      [Rebel, Martyr]  \n",
            "4             [Victim]  \n"
          ]
        }
      ]
    },
    {
      "cell_type": "markdown",
      "source": [
        "Step 3: Map Raw Documents"
      ],
      "metadata": {
        "id": "ZZJr_EtDE6Cr"
      }
    },
    {
      "cell_type": "code",
      "source": [
        "import os\n",
        "\n",
        "# Load raw documents\n",
        "raw_documents_path = \"ENN/raw-documents\"  # Replace with your path\n",
        "raw_documents = {}\n",
        "for filename in os.listdir(raw_documents_path):\n",
        "    if os.path.isfile(os.path.join(raw_documents_path, filename)):\n",
        "        with open(os.path.join(raw_documents_path, filename), \"r\", encoding=\"utf-8\") as f:\n",
        "            raw_documents[filename] = f.read()\n",
        "\n",
        "# Map article_text to annotations\n",
        "annotations[\"article_text\"] = annotations[\"article_id\"].map(raw_documents)\n",
        "\n",
        "# Verify if the column is added\n",
        "print(annotations.head())"
      ],
      "metadata": {
        "colab": {
          "base_uri": "https://localhost:8080/"
        },
        "id": "dOXeXihuC37A",
        "outputId": "dd8c7954-2118-423f-b937-33787ed85816"
      },
      "execution_count": 3,
      "outputs": [
        {
          "output_type": "stream",
          "name": "stdout",
          "text": [
            "         article_id   entity_mention  start_offset  end_offset    main_role  \\\n",
            "0  EN_CC_100013.txt       Bill Gates            93         102   Antagonist   \n",
            "1  EN_CC_100013.txt              BBC          1860        1862   Antagonist   \n",
            "2  EN_CC_100013.txt  Jeffrey Epstein          2005        2019   Antagonist   \n",
            "3  EN_UA_300009.txt     Fail Alsynov           176         187  Protagonist   \n",
            "4  EN_UA_300009.txt   Bashkir people          1616        1629     Innocent   \n",
            "\n",
            "    fine_grained_roles                                       article_text  \n",
            "0  [Deceiver, Corrupt]  Bill Gates Says He Is ‘The Solution’ To Climat...  \n",
            "1           [Deceiver]  Bill Gates Says He Is ‘The Solution’ To Climat...  \n",
            "2            [Corrupt]  Bill Gates Says He Is ‘The Solution’ To Climat...  \n",
            "3      [Rebel, Martyr]  Russia: Clashes erupt in Bashkortostan as righ...  \n",
            "4             [Victim]  Russia: Clashes erupt in Bashkortostan as righ...  \n"
          ]
        }
      ]
    },
    {
      "cell_type": "markdown",
      "source": [
        "Step 4: Split Data"
      ],
      "metadata": {
        "id": "uIJ6ZPfk-nMn"
      }
    },
    {
      "cell_type": "code",
      "source": [
        "from sklearn.model_selection import train_test_split\n",
        "\n",
        "# Taxonomy for validation\n",
        "taxonomy = {\n",
        "    \"Protagonist\": [\"Guardian\", \"Martyr\", \"Peacemaker\", \"Rebel\", \"Underdog\", \"Virtuous\"],\n",
        "    \"Antagonist\": [\n",
        "        \"Instigator\", \"Conspirator\", \"Tyrant\", \"Foreign Adversary\", \"Traitor\", \"Spy\",\n",
        "        \"Saboteur\", \"Corrupt\", \"Incompetent\", \"Terrorist\", \"Deceiver\", \"Bigot\"\n",
        "    ],\n",
        "    \"Innocent\": [\"Forgotten\", \"Exploited\", \"Victim\", \"Scapegoat\"]\n",
        "}\n",
        "\n",
        "# Function to validate roles\n",
        "def validate_roles(row):\n",
        "    main_role = row[\"main_role\"]\n",
        "    valid_fine_roles = taxonomy.get(main_role, [])\n",
        "    fine_roles = row[\"fine_grained_roles\"]\n",
        "    invalid_roles = [role for role in fine_roles if role not in valid_fine_roles]\n",
        "    if invalid_roles:\n",
        "        raise ValueError(f\"Invalid roles {invalid_roles} for main role {main_role}\")\n",
        "    return True\n",
        "\n",
        "# Validate roles in the dataset\n",
        "annotations.apply(validate_roles, axis=1)\n",
        "\n",
        "# Split the data\n",
        "train_data, test_data = train_test_split(annotations, test_size=0.2, random_state=42)\n",
        "val_data, test_data = train_test_split(test_data, test_size=0.5, random_state=42)\n",
        "\n",
        "print(f\"Train size: {len(train_data)}, Validation size: {len(val_data)}, Test size: {len(test_data)}\")"
      ],
      "metadata": {
        "colab": {
          "base_uri": "https://localhost:8080/"
        },
        "id": "KihOnCOvBZGw",
        "outputId": "fb11d3c0-f176-491f-8c09-a57128dbda95"
      },
      "execution_count": 4,
      "outputs": [
        {
          "output_type": "stream",
          "name": "stdout",
          "text": [
            "Train size: 548, Validation size: 69, Test size: 69\n"
          ]
        }
      ]
    },
    {
      "cell_type": "markdown",
      "source": [
        "Step 5: Tokenize Data"
      ],
      "metadata": {
        "id": "hxKXWV1cFCpz"
      }
    },
    {
      "cell_type": "code",
      "source": [
        "from transformers import DistilBertTokenizer\n",
        "from transformers import BertTokenizer, BertForSequenceClassification\n",
        "\n",
        "# Initialize DistilBERT tokenizer\n",
        "tokenizer = DistilBertTokenizer.from_pretrained(\"distilbert-base-uncased\")\n",
        "# tokenizer = BertTokenizer.from_pretrained(\"bert-base-uncased\")\n",
        "\n",
        "\n",
        "def tokenize_data(data):\n",
        "    inputs = []\n",
        "    labels = []\n",
        "\n",
        "    for _, row in data.iterrows():\n",
        "        context_window = f\"Entity: {row['entity_mention']} Context: {row['article_text'][:400]}\"\n",
        "        inputs.append(context_window)\n",
        "        labels.append(row[\"main_role\"])\n",
        "\n",
        "    encodings = tokenizer(inputs, padding=\"max_length\", truncation=True, max_length=400, return_tensors=\"pt\")\n",
        "    return encodings, labels\n",
        "\n",
        "\n",
        "# Tokenize datasets\n",
        "train_encodings, train_labels = tokenize_data(train_data)\n",
        "val_encodings, val_labels = tokenize_data(val_data)\n",
        "test_encodings, test_labels = tokenize_data(test_data)"
      ],
      "metadata": {
        "id": "avFQuZsN-nrg",
        "colab": {
          "base_uri": "https://localhost:8080/",
          "height": 249,
          "referenced_widgets": [
            "47062bc3df7b4bc1910fd2c4e6b392b8",
            "81e902744ec14481b4422d7847e2c10c",
            "b891a95e64804bd5b7665873a64cf28a",
            "b35035e57c3d4f2582b82e654f7d6f8e",
            "56cb8f9465524258b2d3436cb66ba2b3",
            "cf7475770d5345bdb829d2e3c6af6f7f",
            "71374cb8ef3449ab9197629747401ce9",
            "f3ca2e50bd72466babde13d2cd2db854",
            "bc4a567edc0c4751b7971544c5c008a3",
            "d0d27ce070cd4c049c3f24ff453b55cc",
            "44b78746c9b24e339e4b93def6b7a14f",
            "9edede175b2d49ab93d15b137e5886a4",
            "dba9d9944d434125a6b542c568dcce41",
            "8d5db40d209e4736a2cff0ca697a5b2b",
            "8b4c60ec919548cdaca65bb8f6b9c5ec",
            "e69957dcf42b4032aa1f96c6fb50d103",
            "c1715133e3ac4beab62f5e24292cc045",
            "c72cace99c1440978505337a85fec81b",
            "b224e64dba79490983a38cbd4eafd38b",
            "7b72a596efa04b79a481a1fa9832c3f8",
            "b5f16eb641d14149af5258236984374e",
            "48c60dea54174201b613e542e3de1df1",
            "f9a52a04e92e499db4f0e9d0089c3d42",
            "5a4144204e614559879342ee759ef22b",
            "93f42ac607c14283b829063cde27c874",
            "6a143f9e7af34b92a4cc7dc79984b88a",
            "ab6a3551750142e4b5848a48610c9835",
            "5948d90a984b49bfa6e5601a00f54935",
            "28be22b6940546a6b9c6c67637f6c2e2",
            "2a0f62f9a127470bb3db127d5e42d0e2",
            "05e7e0b44095407286a6b0ca2ce0a35f",
            "23b61be57bdb46e7b4a254e9fd131c8e",
            "7dbd2fcd811645e5a03549f994152bc4",
            "6ca9077d2dd84ecfb5dfe4db914b2206",
            "78315a3fd21a4cb8bcf5c1d6fcc80d73",
            "71e4bf308086495c89288fe14df656f0",
            "7bf2f36ab43541a98d7d441374f844a7",
            "c5bab7622a4547ff902c7db8fdd83aaa",
            "7af61a0c7cb1479691218c86ac180a16",
            "a35455a5d1884323a9593c16b3140a57",
            "e19378065e0a48b29aea49f0eb2932eb",
            "aed1ca580fd5496691084e0c8e27e931",
            "fbec842cd449440fba579ade530719d7",
            "30a6d44d318d46f6875ec12e9a84bc5f"
          ]
        },
        "outputId": "b8ddb4f6-1849-4e73-e91c-676e575c7b75"
      },
      "execution_count": 5,
      "outputs": [
        {
          "output_type": "stream",
          "name": "stderr",
          "text": [
            "/usr/local/lib/python3.10/dist-packages/huggingface_hub/utils/_auth.py:94: UserWarning: \n",
            "The secret `HF_TOKEN` does not exist in your Colab secrets.\n",
            "To authenticate with the Hugging Face Hub, create a token in your settings tab (https://huggingface.co/settings/tokens), set it as secret in your Google Colab and restart your session.\n",
            "You will be able to reuse this secret in all of your notebooks.\n",
            "Please note that authentication is recommended but still optional to access public models or datasets.\n",
            "  warnings.warn(\n"
          ]
        },
        {
          "output_type": "display_data",
          "data": {
            "text/plain": [
              "tokenizer_config.json:   0%|          | 0.00/48.0 [00:00<?, ?B/s]"
            ],
            "application/vnd.jupyter.widget-view+json": {
              "version_major": 2,
              "version_minor": 0,
              "model_id": "47062bc3df7b4bc1910fd2c4e6b392b8"
            }
          },
          "metadata": {}
        },
        {
          "output_type": "display_data",
          "data": {
            "text/plain": [
              "vocab.txt:   0%|          | 0.00/232k [00:00<?, ?B/s]"
            ],
            "application/vnd.jupyter.widget-view+json": {
              "version_major": 2,
              "version_minor": 0,
              "model_id": "9edede175b2d49ab93d15b137e5886a4"
            }
          },
          "metadata": {}
        },
        {
          "output_type": "display_data",
          "data": {
            "text/plain": [
              "tokenizer.json:   0%|          | 0.00/466k [00:00<?, ?B/s]"
            ],
            "application/vnd.jupyter.widget-view+json": {
              "version_major": 2,
              "version_minor": 0,
              "model_id": "f9a52a04e92e499db4f0e9d0089c3d42"
            }
          },
          "metadata": {}
        },
        {
          "output_type": "display_data",
          "data": {
            "text/plain": [
              "config.json:   0%|          | 0.00/483 [00:00<?, ?B/s]"
            ],
            "application/vnd.jupyter.widget-view+json": {
              "version_major": 2,
              "version_minor": 0,
              "model_id": "6ca9077d2dd84ecfb5dfe4db914b2206"
            }
          },
          "metadata": {}
        }
      ]
    },
    {
      "cell_type": "markdown",
      "source": [
        "Step 6: Prepare the Dataset"
      ],
      "metadata": {
        "id": "x823KpARFF70"
      }
    },
    {
      "cell_type": "code",
      "source": [
        "import torch\n",
        "\n",
        "class EntityRoleDataset(torch.utils.data.Dataset):\n",
        "    def __init__(self, encodings, labels, label_mapping):\n",
        "        self.encodings = encodings\n",
        "        self.labels = [label_mapping[label] for label in labels]  # Map labels to integers\n",
        "\n",
        "    def __len__(self):\n",
        "        return len(self.labels)\n",
        "\n",
        "    def __getitem__(self, idx):\n",
        "        item = {key: val[idx] for key, val in self.encodings.items()}\n",
        "        item[\"labels\"] = torch.tensor(self.labels[idx])\n",
        "        return item\n",
        "\n",
        "# Map labels to integers\n",
        "label_mapping = {\"Protagonist\": 0, \"Antagonist\": 1, \"Innocent\": 2}\n",
        "\n",
        "# Create datasets\n",
        "train_dataset = EntityRoleDataset(train_encodings, train_labels, label_mapping)\n",
        "val_dataset = EntityRoleDataset(val_encodings, val_labels, label_mapping)\n",
        "test_dataset = EntityRoleDataset(test_encodings, test_labels, label_mapping)"
      ],
      "metadata": {
        "id": "c-cpXYa6_gcx"
      },
      "execution_count": 6,
      "outputs": []
    },
    {
      "cell_type": "markdown",
      "source": [
        "Step 7: Define Training and Train the Model"
      ],
      "metadata": {
        "id": "8XfZf9NJ-wGj"
      }
    },
    {
      "cell_type": "code",
      "source": [
        "from transformers import DistilBertForSequenceClassification, Trainer, TrainingArguments\n",
        "from sklearn.metrics import accuracy_score, f1_score\n",
        "\n",
        "# Initialize DistilBERT for sequence classification\n",
        "model = DistilBertForSequenceClassification.from_pretrained(\"distilbert-base-uncased\", num_labels=len(label_mapping))\n",
        "# model = BertForSequenceClassification.from_pretrained(\"bert-base-uncased\", num_labels=len(label_mapping))\n",
        "\n",
        "# Define metrics\n",
        "def compute_metrics(eval_pred):\n",
        "    logits, labels = eval_pred\n",
        "    predictions = torch.argmax(torch.tensor(logits), dim=1)\n",
        "    acc = accuracy_score(labels, predictions)\n",
        "    f1 = f1_score(labels, predictions, average=\"weighted\")\n",
        "    return {\"accuracy\": acc, \"f1\": f1}\n",
        "\n",
        "# Training arguments\n",
        "training_args = TrainingArguments(\n",
        "    output_dir=\"./results\",\n",
        "    evaluation_strategy=\"epoch\",\n",
        "    learning_rate=5e-5,\n",
        "    per_device_train_batch_size=32,\n",
        "    num_train_epochs=20,\n",
        "    weight_decay=0.01,\n",
        "    save_strategy=\"epoch\",\n",
        "    logging_dir=\"./logs\",\n",
        "    load_best_model_at_end=True,\n",
        "    metric_for_best_model=\"accuracy\",\n",
        ")\n",
        "\n",
        "# Initialize Trainer\n",
        "trainer = Trainer(\n",
        "    model=model,\n",
        "    args=training_args,\n",
        "    train_dataset=train_dataset,\n",
        "    eval_dataset=val_dataset,\n",
        "    tokenizer=tokenizer,\n",
        "    compute_metrics=compute_metrics,\n",
        ")\n",
        "\n",
        "# Train the model\n",
        "trainer.train()\n"
      ],
      "metadata": {
        "colab": {
          "base_uri": "https://localhost:8080/",
          "height": 1000,
          "referenced_widgets": [
            "9b84cda696924c98848b8088e3dbdfec",
            "1b24e936f76a411fb7f0abe59e007ffd",
            "e792924ddafc4643b341aec1c30120e4",
            "43a0497e29b341b8b98a4affe55d9473",
            "35a22cdcdf4048329ea50d3b358ecc35",
            "30f9bc45bd404bfa8e7497246b37784c",
            "e365055419bb44399a6eba42ff99ce14",
            "be1b5eeeefac48c98d31c34662fef3b5",
            "af263054334b4eeab0cd804a54defe4c",
            "51d0000cf4b141b989f32e20fcd51905",
            "52bcde1245d743309ce156da01fc1cc2"
          ]
        },
        "id": "Ccr2Rsnp-wpZ",
        "outputId": "c8311c46-08d5-4501-c9f9-6084ee0ec80f"
      },
      "execution_count": 7,
      "outputs": [
        {
          "output_type": "display_data",
          "data": {
            "text/plain": [
              "model.safetensors:   0%|          | 0.00/268M [00:00<?, ?B/s]"
            ],
            "application/vnd.jupyter.widget-view+json": {
              "version_major": 2,
              "version_minor": 0,
              "model_id": "9b84cda696924c98848b8088e3dbdfec"
            }
          },
          "metadata": {}
        },
        {
          "output_type": "stream",
          "name": "stderr",
          "text": [
            "Some weights of DistilBertForSequenceClassification were not initialized from the model checkpoint at distilbert-base-uncased and are newly initialized: ['classifier.bias', 'classifier.weight', 'pre_classifier.bias', 'pre_classifier.weight']\n",
            "You should probably TRAIN this model on a down-stream task to be able to use it for predictions and inference.\n",
            "/usr/local/lib/python3.10/dist-packages/transformers/training_args.py:1568: FutureWarning: `evaluation_strategy` is deprecated and will be removed in version 4.46 of 🤗 Transformers. Use `eval_strategy` instead\n",
            "  warnings.warn(\n",
            "<ipython-input-7-6777e85024e3>:31: FutureWarning: `tokenizer` is deprecated and will be removed in version 5.0.0 for `Trainer.__init__`. Use `processing_class` instead.\n",
            "  trainer = Trainer(\n",
            "\u001b[34m\u001b[1mwandb\u001b[0m: \u001b[33mWARNING\u001b[0m The `run_name` is currently set to the same value as `TrainingArguments.output_dir`. If this was not intended, please specify a different run name by setting the `TrainingArguments.run_name` parameter.\n",
            "\u001b[34m\u001b[1mwandb\u001b[0m: Using wandb-core as the SDK backend.  Please refer to https://wandb.me/wandb-core for more information.\n"
          ]
        },
        {
          "output_type": "display_data",
          "data": {
            "text/plain": [
              "<IPython.core.display.Javascript object>"
            ],
            "application/javascript": [
              "\n",
              "        window._wandbApiKey = new Promise((resolve, reject) => {\n",
              "            function loadScript(url) {\n",
              "            return new Promise(function(resolve, reject) {\n",
              "                let newScript = document.createElement(\"script\");\n",
              "                newScript.onerror = reject;\n",
              "                newScript.onload = resolve;\n",
              "                document.body.appendChild(newScript);\n",
              "                newScript.src = url;\n",
              "            });\n",
              "            }\n",
              "            loadScript(\"https://cdn.jsdelivr.net/npm/postmate/build/postmate.min.js\").then(() => {\n",
              "            const iframe = document.createElement('iframe')\n",
              "            iframe.style.cssText = \"width:0;height:0;border:none\"\n",
              "            document.body.appendChild(iframe)\n",
              "            const handshake = new Postmate({\n",
              "                container: iframe,\n",
              "                url: 'https://wandb.ai/authorize'\n",
              "            });\n",
              "            const timeout = setTimeout(() => reject(\"Couldn't auto authenticate\"), 5000)\n",
              "            handshake.then(function(child) {\n",
              "                child.on('authorize', data => {\n",
              "                    clearTimeout(timeout)\n",
              "                    resolve(data)\n",
              "                });\n",
              "            });\n",
              "            })\n",
              "        });\n",
              "    "
            ]
          },
          "metadata": {}
        },
        {
          "output_type": "stream",
          "name": "stderr",
          "text": [
            "\u001b[34m\u001b[1mwandb\u001b[0m: Logging into wandb.ai. (Learn how to deploy a W&B server locally: https://wandb.me/wandb-server)\n",
            "\u001b[34m\u001b[1mwandb\u001b[0m: You can find your API key in your browser here: https://wandb.ai/authorize\n",
            "wandb: Paste an API key from your profile and hit enter, or press ctrl+c to quit:"
          ]
        },
        {
          "name": "stdout",
          "output_type": "stream",
          "text": [
            " ··········\n"
          ]
        },
        {
          "output_type": "stream",
          "name": "stderr",
          "text": [
            "\u001b[34m\u001b[1mwandb\u001b[0m: Appending key for api.wandb.ai to your netrc file: /root/.netrc\n"
          ]
        },
        {
          "output_type": "display_data",
          "data": {
            "text/plain": [
              "<IPython.core.display.HTML object>"
            ],
            "text/html": [
              "Tracking run with wandb version 0.18.7"
            ]
          },
          "metadata": {}
        },
        {
          "output_type": "display_data",
          "data": {
            "text/plain": [
              "<IPython.core.display.HTML object>"
            ],
            "text/html": [
              "Run data is saved locally in <code>/content/wandb/run-20241215_053333-nve555av</code>"
            ]
          },
          "metadata": {}
        },
        {
          "output_type": "display_data",
          "data": {
            "text/plain": [
              "<IPython.core.display.HTML object>"
            ],
            "text/html": [
              "Syncing run <strong><a href='https://wandb.ai/24100108-purdue-university/huggingface/runs/nve555av' target=\"_blank\">./results</a></strong> to <a href='https://wandb.ai/24100108-purdue-university/huggingface' target=\"_blank\">Weights & Biases</a> (<a href='https://wandb.me/developer-guide' target=\"_blank\">docs</a>)<br/>"
            ]
          },
          "metadata": {}
        },
        {
          "output_type": "display_data",
          "data": {
            "text/plain": [
              "<IPython.core.display.HTML object>"
            ],
            "text/html": [
              " View project at <a href='https://wandb.ai/24100108-purdue-university/huggingface' target=\"_blank\">https://wandb.ai/24100108-purdue-university/huggingface</a>"
            ]
          },
          "metadata": {}
        },
        {
          "output_type": "display_data",
          "data": {
            "text/plain": [
              "<IPython.core.display.HTML object>"
            ],
            "text/html": [
              " View run at <a href='https://wandb.ai/24100108-purdue-university/huggingface/runs/nve555av' target=\"_blank\">https://wandb.ai/24100108-purdue-university/huggingface/runs/nve555av</a>"
            ]
          },
          "metadata": {}
        },
        {
          "output_type": "display_data",
          "data": {
            "text/plain": [
              "<IPython.core.display.HTML object>"
            ],
            "text/html": [
              "\n",
              "    <div>\n",
              "      \n",
              "      <progress value='360' max='360' style='width:300px; height:20px; vertical-align: middle;'></progress>\n",
              "      [360/360 08:46, Epoch 20/20]\n",
              "    </div>\n",
              "    <table border=\"1\" class=\"dataframe\">\n",
              "  <thead>\n",
              " <tr style=\"text-align: left;\">\n",
              "      <th>Epoch</th>\n",
              "      <th>Training Loss</th>\n",
              "      <th>Validation Loss</th>\n",
              "      <th>Accuracy</th>\n",
              "      <th>F1</th>\n",
              "    </tr>\n",
              "  </thead>\n",
              "  <tbody>\n",
              "    <tr>\n",
              "      <td>1</td>\n",
              "      <td>No log</td>\n",
              "      <td>0.834710</td>\n",
              "      <td>0.710145</td>\n",
              "      <td>0.589781</td>\n",
              "    </tr>\n",
              "    <tr>\n",
              "      <td>2</td>\n",
              "      <td>No log</td>\n",
              "      <td>0.800475</td>\n",
              "      <td>0.710145</td>\n",
              "      <td>0.589781</td>\n",
              "    </tr>\n",
              "    <tr>\n",
              "      <td>3</td>\n",
              "      <td>No log</td>\n",
              "      <td>0.792021</td>\n",
              "      <td>0.681159</td>\n",
              "      <td>0.605639</td>\n",
              "    </tr>\n",
              "    <tr>\n",
              "      <td>4</td>\n",
              "      <td>No log</td>\n",
              "      <td>0.799292</td>\n",
              "      <td>0.637681</td>\n",
              "      <td>0.597733</td>\n",
              "    </tr>\n",
              "    <tr>\n",
              "      <td>5</td>\n",
              "      <td>No log</td>\n",
              "      <td>0.824718</td>\n",
              "      <td>0.710145</td>\n",
              "      <td>0.672827</td>\n",
              "    </tr>\n",
              "    <tr>\n",
              "      <td>6</td>\n",
              "      <td>No log</td>\n",
              "      <td>0.824672</td>\n",
              "      <td>0.666667</td>\n",
              "      <td>0.678986</td>\n",
              "    </tr>\n",
              "    <tr>\n",
              "      <td>7</td>\n",
              "      <td>No log</td>\n",
              "      <td>0.806488</td>\n",
              "      <td>0.695652</td>\n",
              "      <td>0.682651</td>\n",
              "    </tr>\n",
              "    <tr>\n",
              "      <td>8</td>\n",
              "      <td>No log</td>\n",
              "      <td>0.759366</td>\n",
              "      <td>0.753623</td>\n",
              "      <td>0.755087</td>\n",
              "    </tr>\n",
              "    <tr>\n",
              "      <td>9</td>\n",
              "      <td>No log</td>\n",
              "      <td>0.851175</td>\n",
              "      <td>0.739130</td>\n",
              "      <td>0.721490</td>\n",
              "    </tr>\n",
              "    <tr>\n",
              "      <td>10</td>\n",
              "      <td>No log</td>\n",
              "      <td>0.939547</td>\n",
              "      <td>0.724638</td>\n",
              "      <td>0.723212</td>\n",
              "    </tr>\n",
              "    <tr>\n",
              "      <td>11</td>\n",
              "      <td>No log</td>\n",
              "      <td>0.966009</td>\n",
              "      <td>0.739130</td>\n",
              "      <td>0.733822</td>\n",
              "    </tr>\n",
              "    <tr>\n",
              "      <td>12</td>\n",
              "      <td>No log</td>\n",
              "      <td>1.027900</td>\n",
              "      <td>0.695652</td>\n",
              "      <td>0.701490</td>\n",
              "    </tr>\n",
              "    <tr>\n",
              "      <td>13</td>\n",
              "      <td>No log</td>\n",
              "      <td>0.962571</td>\n",
              "      <td>0.724638</td>\n",
              "      <td>0.731254</td>\n",
              "    </tr>\n",
              "    <tr>\n",
              "      <td>14</td>\n",
              "      <td>No log</td>\n",
              "      <td>1.015207</td>\n",
              "      <td>0.724638</td>\n",
              "      <td>0.717025</td>\n",
              "    </tr>\n",
              "    <tr>\n",
              "      <td>15</td>\n",
              "      <td>No log</td>\n",
              "      <td>1.275137</td>\n",
              "      <td>0.681159</td>\n",
              "      <td>0.702909</td>\n",
              "    </tr>\n",
              "    <tr>\n",
              "      <td>16</td>\n",
              "      <td>No log</td>\n",
              "      <td>1.094794</td>\n",
              "      <td>0.768116</td>\n",
              "      <td>0.746822</td>\n",
              "    </tr>\n",
              "    <tr>\n",
              "      <td>17</td>\n",
              "      <td>No log</td>\n",
              "      <td>1.114915</td>\n",
              "      <td>0.724638</td>\n",
              "      <td>0.736612</td>\n",
              "    </tr>\n",
              "    <tr>\n",
              "      <td>18</td>\n",
              "      <td>No log</td>\n",
              "      <td>1.153084</td>\n",
              "      <td>0.724638</td>\n",
              "      <td>0.736612</td>\n",
              "    </tr>\n",
              "    <tr>\n",
              "      <td>19</td>\n",
              "      <td>No log</td>\n",
              "      <td>1.155954</td>\n",
              "      <td>0.724638</td>\n",
              "      <td>0.736612</td>\n",
              "    </tr>\n",
              "    <tr>\n",
              "      <td>20</td>\n",
              "      <td>No log</td>\n",
              "      <td>1.139091</td>\n",
              "      <td>0.724638</td>\n",
              "      <td>0.736612</td>\n",
              "    </tr>\n",
              "  </tbody>\n",
              "</table><p>"
            ]
          },
          "metadata": {}
        },
        {
          "output_type": "execute_result",
          "data": {
            "text/plain": [
              "TrainOutput(global_step=360, training_loss=0.2768935309516059, metrics={'train_runtime': 575.6347, 'train_samples_per_second': 19.04, 'train_steps_per_second': 0.625, 'total_flos': 1134272328768000.0, 'train_loss': 0.2768935309516059, 'epoch': 20.0})"
            ]
          },
          "metadata": {},
          "execution_count": 7
        }
      ]
    },
    {
      "cell_type": "markdown",
      "source": [
        "Step 8: Evaluate the Model"
      ],
      "metadata": {
        "id": "mI7KT-rZ-zee"
      }
    },
    {
      "cell_type": "code",
      "source": [
        "from sklearn.metrics import classification_report\n",
        "\n",
        "# Evaluate on test data\n",
        "test_results = trainer.evaluate(test_dataset)\n",
        "print(\"Test Results:\", test_results)\n",
        "\n",
        "# Get predictions\n",
        "import numpy as np\n",
        "\n",
        "predictions = trainer.predict(test_dataset)\n",
        "predicted_labels = np.argmax(predictions.predictions, axis=1)\n",
        "\n",
        "# Convert test labels to numeric\n",
        "test_labels_numeric = [label_mapping[label] for label in test_labels]\n",
        "\n",
        "# Classification report\n",
        "print(classification_report(test_labels_numeric, predicted_labels, target_names=label_mapping.keys()))\n",
        "print(predicted_labels)\n"
      ],
      "metadata": {
        "colab": {
          "base_uri": "https://localhost:8080/",
          "height": 263
        },
        "id": "E-_4KaZp-8-X",
        "outputId": "0fc25e57-9cfb-4445-dd85-097db84dcb20"
      },
      "execution_count": 8,
      "outputs": [
        {
          "output_type": "display_data",
          "data": {
            "text/plain": [
              "<IPython.core.display.HTML object>"
            ],
            "text/html": []
          },
          "metadata": {}
        },
        {
          "output_type": "stream",
          "name": "stdout",
          "text": [
            "Test Results: {'eval_loss': 1.6920788288116455, 'eval_accuracy': 0.6521739130434783, 'eval_f1': 0.6327381038446523, 'eval_runtime': 0.8457, 'eval_samples_per_second': 81.587, 'eval_steps_per_second': 10.642, 'epoch': 20.0}\n",
            "              precision    recall  f1-score   support\n",
            "\n",
            " Protagonist       0.54      0.39      0.45        18\n",
            "  Antagonist       0.71      0.82      0.76        45\n",
            "    Innocent       0.25      0.17      0.20         6\n",
            "\n",
            "    accuracy                           0.65        69\n",
            "   macro avg       0.50      0.46      0.47        69\n",
            "weighted avg       0.63      0.65      0.63        69\n",
            "\n",
            "[1 1 0 0 0 1 1 2 1 1 1 1 1 1 2 1 1 1 1 1 1 1 1 0 1 1 0 1 0 1 1 0 1 1 0 1 1\n",
            " 1 1 1 0 2 1 1 1 1 0 1 1 1 1 1 0 2 1 1 1 1 1 0 1 1 1 1 1 1 1 0 1]\n"
          ]
        }
      ]
    },
    {
      "cell_type": "markdown",
      "source": [
        "<h1>Fine-Grained Role Classification</h1>"
      ],
      "metadata": {
        "id": "PIo3IFoI4o04"
      }
    },
    {
      "cell_type": "markdown",
      "source": [
        "Step 1: Prepare the Fine-Grained Role Classification Dataset"
      ],
      "metadata": {
        "id": "bXen4kS75QnL"
      }
    },
    {
      "cell_type": "code",
      "source": [
        "fine_grained_taxonomy = {\n",
        "    \"Protagonist\": [\"Guardian\", \"Martyr\", \"Peacemaker\", \"Rebel\", \"Underdog\", \"Virtuous\"],\n",
        "    \"Antagonist\": [\n",
        "        \"Instigator\", \"Conspirator\", \"Tyrant\", \"Foreign Adversary\", \"Traitor\", \"Spy\", \"Saboteur\",\n",
        "        \"Corrupt\", \"Incompetent\", \"Terrorist\", \"Deceiver\", \"Bigot\"\n",
        "    ],\n",
        "    \"Innocent\": [\"Forgotten\", \"Exploited\", \"Victim\", \"Scapegoat\"]\n",
        "}\n"
      ],
      "metadata": {
        "id": "pv8LyElJhwCn"
      },
      "execution_count": 9,
      "outputs": []
    },
    {
      "cell_type": "code",
      "source": [
        "from sklearn.preprocessing import MultiLabelBinarizer\n",
        "\n",
        "# Prepare dataset for fine-grained classification\n",
        "def prepare_fine_grained_data(annotations, main_role_predictions):\n",
        "    fine_grained_data = annotations.copy()\n",
        "    fine_grained_data['predicted_main_role'] = main_role_predictions\n",
        "    return fine_grained_data\n",
        "\n",
        "# Use main role predictions from DistilBERT\n",
        "fine_grained_data = prepare_fine_grained_data(test_data, predicted_labels)\n",
        "\n",
        "# Add main role predictions to test_data\n",
        "test_data['predicted_main_role'] = fine_grained_data['predicted_main_role']\n",
        "\n",
        "\n",
        "# Ensure 'fine_grained_roles' is a list\n",
        "fine_grained_data['fine_grained_roles'] = fine_grained_data['fine_grained_roles'].apply(\n",
        "    lambda x: x if isinstance(x, list) else []\n",
        ")\n",
        "\n",
        "# Binarize the fine-grained roles using MultiLabelBinarizer\n",
        "mlb = MultiLabelBinarizer()\n",
        "fine_grained_labels = mlb.fit_transform(fine_grained_data['fine_grained_roles'])\n",
        "\n",
        "# Verify the transformation\n",
        "print(\"Classes for Fine-Grained Roles:\", mlb.classes_)\n",
        "fine_grained_data['fine_grained_label'] = list(fine_grained_labels)\n"
      ],
      "metadata": {
        "colab": {
          "base_uri": "https://localhost:8080/"
        },
        "id": "bvZgymbr5Q9s",
        "outputId": "767ac16b-5834-49ff-cdf5-6d79cac2cc4f"
      },
      "execution_count": 10,
      "outputs": [
        {
          "output_type": "stream",
          "name": "stdout",
          "text": [
            "Classes for Fine-Grained Roles: ['Conspirator' 'Corrupt' 'Deceiver' 'Exploited' 'Foreign Adversary'\n",
            " 'Guardian' 'Incompetent' 'Instigator' 'Martyr' 'Peacemaker' 'Rebel'\n",
            " 'Saboteur' 'Scapegoat' 'Terrorist' 'Traitor' 'Tyrant' 'Victim' 'Virtuous']\n"
          ]
        }
      ]
    },
    {
      "cell_type": "markdown",
      "source": [
        "Step 2: Define Features for ML Models"
      ],
      "metadata": {
        "id": "yIiSbh2e5ZFD"
      }
    },
    {
      "cell_type": "code",
      "source": [
        "from sklearn.feature_extraction.text import TfidfVectorizer\n",
        "from sklearn.preprocessing import OneHotEncoder\n",
        "from scipy.sparse import hstack\n",
        "\n",
        "# Generate TF-IDF features for text\n",
        "tfidf_vectorizer = TfidfVectorizer(max_features=10000, ngram_range=(1, 5))\n",
        "text_features = tfidf_vectorizer.fit_transform(fine_grained_data['article_text'])\n",
        "\n",
        "# One-hot encode the predicted main roles\n",
        "role_encoder = OneHotEncoder()\n",
        "role_features = role_encoder.fit_transform(fine_grained_data['predicted_main_role'].values.reshape(-1, 1))\n",
        "\n",
        "print(fine_grained_data.head())  # Ensure the 'fine_grained_roles' column exists and has values\n",
        "print(\"-----\")\n",
        "print(fine_grained_data['fine_grained_roles'].head())  # Inspect the values in 'fine_grained_roles'\n",
        "\n",
        "X_fine_grained = hstack([text_features, role_features])\n",
        "y_fine_grained = fine_grained_data['fine_grained_roles']\n"
      ],
      "metadata": {
        "colab": {
          "base_uri": "https://localhost:8080/"
        },
        "id": "a6c1U8JT5YZ4",
        "outputId": "589e2eb1-e5c9-47de-c6b3-1b85e58c4a2f"
      },
      "execution_count": 11,
      "outputs": [
        {
          "output_type": "stream",
          "name": "stdout",
          "text": [
            "           article_id    entity_mention  start_offset  end_offset  \\\n",
            "69   EN_CC_100076.txt           Reuters           129         135   \n",
            "616  EN_CC_200116.txt  Pierre Poilievre           648         663   \n",
            "651  EN_UA_011260.txt           Ukraine          1225        1231   \n",
            "250  EN_UA_010091.txt            Europe          1015        1020   \n",
            "603  EN_UA_028520.txt      Viktor Orbán           656         667   \n",
            "\n",
            "       main_role fine_grained_roles  \\\n",
            "69    Antagonist      [Incompetent]   \n",
            "616  Protagonist         [Guardian]   \n",
            "651   Antagonist      [Conspirator]   \n",
            "250  Protagonist         [Guardian]   \n",
            "603   Antagonist          [Corrupt]   \n",
            "\n",
            "                                          article_text  predicted_main_role  \\\n",
            "69   Reuters Joins BBC in Failed ‘Fact Check’ of Da...                    1   \n",
            "616  Canadian Conservative Leader Poilievre Scorche...                    1   \n",
            "651  Russia has a clear plan to resolve the conflic...                    0   \n",
            "250  European leader calls on world, China to press...                    0   \n",
            "603  EU’s top diplomat angry at Hungarian FM for la...                    0   \n",
            "\n",
            "                                    fine_grained_label  \n",
            "69   [0, 0, 0, 0, 0, 0, 1, 0, 0, 0, 0, 0, 0, 0, 0, ...  \n",
            "616  [0, 0, 0, 0, 0, 1, 0, 0, 0, 0, 0, 0, 0, 0, 0, ...  \n",
            "651  [1, 0, 0, 0, 0, 0, 0, 0, 0, 0, 0, 0, 0, 0, 0, ...  \n",
            "250  [0, 0, 0, 0, 0, 1, 0, 0, 0, 0, 0, 0, 0, 0, 0, ...  \n",
            "603  [0, 1, 0, 0, 0, 0, 0, 0, 0, 0, 0, 0, 0, 0, 0, ...  \n",
            "-----\n",
            "69     [Incompetent]\n",
            "616       [Guardian]\n",
            "651    [Conspirator]\n",
            "250       [Guardian]\n",
            "603        [Corrupt]\n",
            "Name: fine_grained_roles, dtype: object\n"
          ]
        }
      ]
    },
    {
      "cell_type": "markdown",
      "source": [
        "Step 3: Train-Test Split"
      ],
      "metadata": {
        "id": "UC5Gj-8u5dl2"
      }
    },
    {
      "cell_type": "code",
      "source": [
        "from sklearn.model_selection import train_test_split\n",
        "from imblearn.combine import SMOTETomek\n",
        "from imblearn.over_sampling import RandomOverSampler\n",
        "\n",
        "X_train_fine, X_test_fine, y_train_fine, y_test_fine = train_test_split(\n",
        "    X_fine_grained, fine_grained_labels, test_size=0.2, random_state=42\n",
        ")\n",
        "# # First handle cases with very few samples using RandomOverSampler\n",
        "# ros = RandomOverSampler(random_state=42)\n",
        "# X_train_fine, y_train_fine = ros.fit_resample(X_train_fine, y_train_fine)\n",
        "\n",
        "# # Apply SMOTE for remaining imbalances\n",
        "# smote_tomek = SMOTETomek(random_state=42)\n",
        "# X_train_fine, y_train_fine = smote_tomek.fit_resample(X_train_fine, y_train_fine)"
      ],
      "metadata": {
        "id": "Oo1msy6e5d-E"
      },
      "execution_count": 12,
      "outputs": []
    },
    {
      "cell_type": "markdown",
      "source": [
        "Step 4: Train ML Models for Fine-Grained Role Prediction"
      ],
      "metadata": {
        "id": "SndLEG5F5gmA"
      }
    },
    {
      "cell_type": "code",
      "source": [
        "from sklearn.svm import SVC\n",
        "from sklearn.linear_model import LogisticRegression\n",
        "from sklearn.ensemble import RandomForestClassifier\n",
        "from sklearn.neural_network import MLPClassifier\n",
        "from sklearn.metrics import classification_report, accuracy_score\n",
        "from sklearn.multiclass import OneVsRestClassifier\n",
        "from sklearn.metrics import hamming_loss\n",
        "from sklearn.metrics import precision_score, recall_score, f1_score\n",
        "\n",
        "# Wrap models in OneVsRestClassifier\n",
        "multi_label_models = {\n",
        "    \"SVM\": OneVsRestClassifier(SVC(kernel=\"linear\", probability=True)),\n",
        "    \"Logistic Regression\": OneVsRestClassifier(LogisticRegression(max_iter=2000, random_state=42)),\n",
        "    \"Random Forest\": OneVsRestClassifier(RandomForestClassifier(n_estimators=200, random_state=42)),\n",
        "    \"MLP\": OneVsRestClassifier(MLPClassifier(hidden_layer_sizes=(256, 512, 256), max_iter=1000, random_state=42)),\n",
        "}\n",
        "\n",
        "# Train and evaluate each model\n",
        "for model_name, model in multi_label_models.items():\n",
        "    print(f\"Training {model_name}...\")\n",
        "    model.fit(X_train_fine, y_train_fine)\n",
        "    y_pred = model.predict(X_test_fine)\n",
        "\n",
        "    # Hamming Loss\n",
        "    print(f\"{model_name} Hamming Loss: {hamming_loss(y_test_fine, y_pred):.4f}\")\n",
        "\n",
        "    # Exact Match Ratio\n",
        "    exact_match_ratio = accuracy_score(y_test_fine, y_pred)\n",
        "    print(f\"{model_name} Exact Match Ratio (Subset Accuracy): {exact_match_ratio:.4f}\")\n",
        "\n",
        "    # Precision, Recall, F1-Score (Macro-Averaged)\n",
        "    precision = precision_score(y_test_fine, y_pred, average='macro')\n",
        "    recall = recall_score(y_test_fine, y_pred, average='macro')\n",
        "    f1 = f1_score(y_test_fine, y_pred, average='macro')\n",
        "    print(f\"{model_name} Macro Precision: {precision:.4f}, Recall: {recall:.4f}, F1-Score: {f1:.4f}\")\n",
        "\n",
        "    # Multi-Label Classification Report\n",
        "    print(f\"{model_name} Classification Report:\")\n",
        "    print(classification_report(y_test_fine, y_pred, target_names=mlb.classes_))\n",
        "\n"
      ],
      "metadata": {
        "colab": {
          "base_uri": "https://localhost:8080/"
        },
        "id": "B7DyDUDR5g-M",
        "outputId": "4c88f7df-374a-44e1-9753-68a517617176"
      },
      "execution_count": 13,
      "outputs": [
        {
          "output_type": "stream",
          "name": "stdout",
          "text": [
            "Training SVM...\n"
          ]
        },
        {
          "output_type": "stream",
          "name": "stderr",
          "text": [
            "/usr/local/lib/python3.10/dist-packages/sklearn/multiclass.py:87: UserWarning: Label not 11 is present in all training examples.\n",
            "  warnings.warn(\n"
          ]
        },
        {
          "output_type": "stream",
          "name": "stdout",
          "text": [
            "SVM Hamming Loss: 0.0595\n",
            "SVM Exact Match Ratio (Subset Accuracy): 0.0000\n",
            "SVM Macro Precision: 0.0000, Recall: 0.0000, F1-Score: 0.0000\n",
            "SVM Classification Report:\n",
            "                   precision    recall  f1-score   support\n",
            "\n",
            "      Conspirator       0.00      0.00      0.00         3\n",
            "          Corrupt       0.00      0.00      0.00         1\n",
            "         Deceiver       0.00      0.00      0.00         0\n",
            "        Exploited       0.00      0.00      0.00         0\n",
            "Foreign Adversary       0.00      0.00      0.00         0\n",
            "         Guardian       0.00      0.00      0.00         0\n",
            "      Incompetent       0.00      0.00      0.00         2\n",
            "       Instigator       0.00      0.00      0.00         0\n",
            "           Martyr       0.00      0.00      0.00         1\n",
            "       Peacemaker       0.00      0.00      0.00         1\n",
            "            Rebel       0.00      0.00      0.00         0\n",
            "         Saboteur       0.00      0.00      0.00         1\n",
            "        Scapegoat       0.00      0.00      0.00         1\n",
            "        Terrorist       0.00      0.00      0.00         0\n",
            "          Traitor       0.00      0.00      0.00         1\n",
            "           Tyrant       0.00      0.00      0.00         2\n",
            "           Victim       0.00      0.00      0.00         1\n",
            "         Virtuous       0.00      0.00      0.00         1\n",
            "\n",
            "        micro avg       0.00      0.00      0.00        15\n",
            "        macro avg       0.00      0.00      0.00        15\n",
            "     weighted avg       0.00      0.00      0.00        15\n",
            "      samples avg       0.00      0.00      0.00        15\n",
            "\n",
            "Training Logistic Regression...\n"
          ]
        },
        {
          "output_type": "stream",
          "name": "stderr",
          "text": [
            "/usr/local/lib/python3.10/dist-packages/sklearn/metrics/_classification.py:1531: UndefinedMetricWarning: Precision is ill-defined and being set to 0.0 in labels with no predicted samples. Use `zero_division` parameter to control this behavior.\n",
            "  _warn_prf(average, modifier, f\"{metric.capitalize()} is\", len(result))\n",
            "/usr/local/lib/python3.10/dist-packages/sklearn/metrics/_classification.py:1531: UndefinedMetricWarning: Recall is ill-defined and being set to 0.0 in labels with no true samples. Use `zero_division` parameter to control this behavior.\n",
            "  _warn_prf(average, modifier, f\"{metric.capitalize()} is\", len(result))\n",
            "/usr/local/lib/python3.10/dist-packages/sklearn/metrics/_classification.py:1531: UndefinedMetricWarning: F-score is ill-defined and being set to 0.0 in labels with no true nor predicted samples. Use `zero_division` parameter to control this behavior.\n",
            "  _warn_prf(average, modifier, f\"{metric.capitalize()} is\", len(result))\n",
            "/usr/local/lib/python3.10/dist-packages/sklearn/metrics/_classification.py:1531: UndefinedMetricWarning: Precision is ill-defined and being set to 0.0 in labels with no predicted samples. Use `zero_division` parameter to control this behavior.\n",
            "  _warn_prf(average, modifier, f\"{metric.capitalize()} is\", len(result))\n",
            "/usr/local/lib/python3.10/dist-packages/sklearn/metrics/_classification.py:1531: UndefinedMetricWarning: Recall is ill-defined and being set to 0.0 in labels with no true samples. Use `zero_division` parameter to control this behavior.\n",
            "  _warn_prf(average, modifier, f\"{metric.capitalize()} is\", len(result))\n",
            "/usr/local/lib/python3.10/dist-packages/sklearn/metrics/_classification.py:1531: UndefinedMetricWarning: F-score is ill-defined and being set to 0.0 in labels with no true nor predicted samples. Use `zero_division` parameter to control this behavior.\n",
            "  _warn_prf(average, modifier, f\"{metric.capitalize()} is\", len(result))\n",
            "/usr/local/lib/python3.10/dist-packages/sklearn/metrics/_classification.py:1531: UndefinedMetricWarning: Precision is ill-defined and being set to 0.0 due to no predicted samples. Use `zero_division` parameter to control this behavior.\n",
            "  _warn_prf(average, modifier, f\"{metric.capitalize()} is\", len(result))\n",
            "/usr/local/lib/python3.10/dist-packages/sklearn/metrics/_classification.py:1531: UndefinedMetricWarning: Precision is ill-defined and being set to 0.0 in samples with no predicted labels. Use `zero_division` parameter to control this behavior.\n",
            "  _warn_prf(average, modifier, f\"{metric.capitalize()} is\", len(result))\n",
            "/usr/local/lib/python3.10/dist-packages/sklearn/multiclass.py:87: UserWarning: Label not 11 is present in all training examples.\n",
            "  warnings.warn(\n"
          ]
        },
        {
          "output_type": "stream",
          "name": "stdout",
          "text": [
            "Logistic Regression Hamming Loss: 0.0595\n",
            "Logistic Regression Exact Match Ratio (Subset Accuracy): 0.0000\n",
            "Logistic Regression Macro Precision: 0.0000, Recall: 0.0000, F1-Score: 0.0000\n",
            "Logistic Regression Classification Report:\n",
            "                   precision    recall  f1-score   support\n",
            "\n",
            "      Conspirator       0.00      0.00      0.00         3\n",
            "          Corrupt       0.00      0.00      0.00         1\n",
            "         Deceiver       0.00      0.00      0.00         0\n",
            "        Exploited       0.00      0.00      0.00         0\n",
            "Foreign Adversary       0.00      0.00      0.00         0\n",
            "         Guardian       0.00      0.00      0.00         0\n",
            "      Incompetent       0.00      0.00      0.00         2\n",
            "       Instigator       0.00      0.00      0.00         0\n",
            "           Martyr       0.00      0.00      0.00         1\n",
            "       Peacemaker       0.00      0.00      0.00         1\n",
            "            Rebel       0.00      0.00      0.00         0\n",
            "         Saboteur       0.00      0.00      0.00         1\n",
            "        Scapegoat       0.00      0.00      0.00         1\n",
            "        Terrorist       0.00      0.00      0.00         0\n",
            "          Traitor       0.00      0.00      0.00         1\n",
            "           Tyrant       0.00      0.00      0.00         2\n",
            "           Victim       0.00      0.00      0.00         1\n",
            "         Virtuous       0.00      0.00      0.00         1\n",
            "\n",
            "        micro avg       0.00      0.00      0.00        15\n",
            "        macro avg       0.00      0.00      0.00        15\n",
            "     weighted avg       0.00      0.00      0.00        15\n",
            "      samples avg       0.00      0.00      0.00        15\n",
            "\n",
            "Training Random Forest...\n"
          ]
        },
        {
          "output_type": "stream",
          "name": "stderr",
          "text": [
            "/usr/local/lib/python3.10/dist-packages/sklearn/metrics/_classification.py:1531: UndefinedMetricWarning: Precision is ill-defined and being set to 0.0 in labels with no predicted samples. Use `zero_division` parameter to control this behavior.\n",
            "  _warn_prf(average, modifier, f\"{metric.capitalize()} is\", len(result))\n",
            "/usr/local/lib/python3.10/dist-packages/sklearn/metrics/_classification.py:1531: UndefinedMetricWarning: Recall is ill-defined and being set to 0.0 in labels with no true samples. Use `zero_division` parameter to control this behavior.\n",
            "  _warn_prf(average, modifier, f\"{metric.capitalize()} is\", len(result))\n",
            "/usr/local/lib/python3.10/dist-packages/sklearn/metrics/_classification.py:1531: UndefinedMetricWarning: F-score is ill-defined and being set to 0.0 in labels with no true nor predicted samples. Use `zero_division` parameter to control this behavior.\n",
            "  _warn_prf(average, modifier, f\"{metric.capitalize()} is\", len(result))\n",
            "/usr/local/lib/python3.10/dist-packages/sklearn/metrics/_classification.py:1531: UndefinedMetricWarning: Precision is ill-defined and being set to 0.0 in labels with no predicted samples. Use `zero_division` parameter to control this behavior.\n",
            "  _warn_prf(average, modifier, f\"{metric.capitalize()} is\", len(result))\n",
            "/usr/local/lib/python3.10/dist-packages/sklearn/metrics/_classification.py:1531: UndefinedMetricWarning: Recall is ill-defined and being set to 0.0 in labels with no true samples. Use `zero_division` parameter to control this behavior.\n",
            "  _warn_prf(average, modifier, f\"{metric.capitalize()} is\", len(result))\n",
            "/usr/local/lib/python3.10/dist-packages/sklearn/metrics/_classification.py:1531: UndefinedMetricWarning: F-score is ill-defined and being set to 0.0 in labels with no true nor predicted samples. Use `zero_division` parameter to control this behavior.\n",
            "  _warn_prf(average, modifier, f\"{metric.capitalize()} is\", len(result))\n",
            "/usr/local/lib/python3.10/dist-packages/sklearn/metrics/_classification.py:1531: UndefinedMetricWarning: Precision is ill-defined and being set to 0.0 due to no predicted samples. Use `zero_division` parameter to control this behavior.\n",
            "  _warn_prf(average, modifier, f\"{metric.capitalize()} is\", len(result))\n",
            "/usr/local/lib/python3.10/dist-packages/sklearn/metrics/_classification.py:1531: UndefinedMetricWarning: Precision is ill-defined and being set to 0.0 in samples with no predicted labels. Use `zero_division` parameter to control this behavior.\n",
            "  _warn_prf(average, modifier, f\"{metric.capitalize()} is\", len(result))\n",
            "/usr/local/lib/python3.10/dist-packages/sklearn/multiclass.py:87: UserWarning: Label not 11 is present in all training examples.\n",
            "  warnings.warn(\n"
          ]
        },
        {
          "output_type": "stream",
          "name": "stdout",
          "text": [
            "Random Forest Hamming Loss: 0.0595\n",
            "Random Forest Exact Match Ratio (Subset Accuracy): 0.0714\n",
            "Random Forest Macro Precision: 0.0556, Recall: 0.0278, F1-Score: 0.0370\n",
            "Random Forest Classification Report:\n",
            "                   precision    recall  f1-score   support\n",
            "\n",
            "      Conspirator       0.00      0.00      0.00         3\n",
            "          Corrupt       0.00      0.00      0.00         1\n",
            "         Deceiver       0.00      0.00      0.00         0\n",
            "        Exploited       0.00      0.00      0.00         0\n",
            "Foreign Adversary       0.00      0.00      0.00         0\n",
            "         Guardian       0.00      0.00      0.00         0\n",
            "      Incompetent       0.00      0.00      0.00         2\n",
            "       Instigator       0.00      0.00      0.00         0\n",
            "           Martyr       0.00      0.00      0.00         1\n",
            "       Peacemaker       0.00      0.00      0.00         1\n",
            "            Rebel       0.00      0.00      0.00         0\n",
            "         Saboteur       0.00      0.00      0.00         1\n",
            "        Scapegoat       0.00      0.00      0.00         1\n",
            "        Terrorist       0.00      0.00      0.00         0\n",
            "          Traitor       0.00      0.00      0.00         1\n",
            "           Tyrant       1.00      0.50      0.67         2\n",
            "           Victim       0.00      0.00      0.00         1\n",
            "         Virtuous       0.00      0.00      0.00         1\n",
            "\n",
            "        micro avg       0.50      0.07      0.12        15\n",
            "        macro avg       0.06      0.03      0.04        15\n",
            "     weighted avg       0.13      0.07      0.09        15\n",
            "      samples avg       0.07      0.07      0.07        15\n",
            "\n",
            "Training MLP...\n"
          ]
        },
        {
          "output_type": "stream",
          "name": "stderr",
          "text": [
            "/usr/local/lib/python3.10/dist-packages/sklearn/metrics/_classification.py:1531: UndefinedMetricWarning: Precision is ill-defined and being set to 0.0 in labels with no predicted samples. Use `zero_division` parameter to control this behavior.\n",
            "  _warn_prf(average, modifier, f\"{metric.capitalize()} is\", len(result))\n",
            "/usr/local/lib/python3.10/dist-packages/sklearn/metrics/_classification.py:1531: UndefinedMetricWarning: Recall is ill-defined and being set to 0.0 in labels with no true samples. Use `zero_division` parameter to control this behavior.\n",
            "  _warn_prf(average, modifier, f\"{metric.capitalize()} is\", len(result))\n",
            "/usr/local/lib/python3.10/dist-packages/sklearn/metrics/_classification.py:1531: UndefinedMetricWarning: F-score is ill-defined and being set to 0.0 in labels with no true nor predicted samples. Use `zero_division` parameter to control this behavior.\n",
            "  _warn_prf(average, modifier, f\"{metric.capitalize()} is\", len(result))\n",
            "/usr/local/lib/python3.10/dist-packages/sklearn/metrics/_classification.py:1531: UndefinedMetricWarning: Precision is ill-defined and being set to 0.0 in labels with no predicted samples. Use `zero_division` parameter to control this behavior.\n",
            "  _warn_prf(average, modifier, f\"{metric.capitalize()} is\", len(result))\n",
            "/usr/local/lib/python3.10/dist-packages/sklearn/metrics/_classification.py:1531: UndefinedMetricWarning: Recall is ill-defined and being set to 0.0 in labels with no true samples. Use `zero_division` parameter to control this behavior.\n",
            "  _warn_prf(average, modifier, f\"{metric.capitalize()} is\", len(result))\n",
            "/usr/local/lib/python3.10/dist-packages/sklearn/metrics/_classification.py:1531: UndefinedMetricWarning: F-score is ill-defined and being set to 0.0 in labels with no true nor predicted samples. Use `zero_division` parameter to control this behavior.\n",
            "  _warn_prf(average, modifier, f\"{metric.capitalize()} is\", len(result))\n",
            "/usr/local/lib/python3.10/dist-packages/sklearn/metrics/_classification.py:1531: UndefinedMetricWarning: Precision is ill-defined and being set to 0.0 in samples with no predicted labels. Use `zero_division` parameter to control this behavior.\n",
            "  _warn_prf(average, modifier, f\"{metric.capitalize()} is\", len(result))\n",
            "/usr/local/lib/python3.10/dist-packages/sklearn/multiclass.py:87: UserWarning: Label not 11 is present in all training examples.\n",
            "  warnings.warn(\n"
          ]
        },
        {
          "output_type": "stream",
          "name": "stdout",
          "text": [
            "MLP Hamming Loss: 0.0595\n",
            "MLP Exact Match Ratio (Subset Accuracy): 0.0714\n",
            "MLP Macro Precision: 0.0556, Recall: 0.0278, F1-Score: 0.0370\n",
            "MLP Classification Report:\n",
            "                   precision    recall  f1-score   support\n",
            "\n",
            "      Conspirator       0.00      0.00      0.00         3\n",
            "          Corrupt       0.00      0.00      0.00         1\n",
            "         Deceiver       0.00      0.00      0.00         0\n",
            "        Exploited       0.00      0.00      0.00         0\n",
            "Foreign Adversary       0.00      0.00      0.00         0\n",
            "         Guardian       0.00      0.00      0.00         0\n",
            "      Incompetent       0.00      0.00      0.00         2\n",
            "       Instigator       0.00      0.00      0.00         0\n",
            "           Martyr       0.00      0.00      0.00         1\n",
            "       Peacemaker       0.00      0.00      0.00         1\n",
            "            Rebel       0.00      0.00      0.00         0\n",
            "         Saboteur       0.00      0.00      0.00         1\n",
            "        Scapegoat       0.00      0.00      0.00         1\n",
            "        Terrorist       0.00      0.00      0.00         0\n",
            "          Traitor       0.00      0.00      0.00         1\n",
            "           Tyrant       1.00      0.50      0.67         2\n",
            "           Victim       0.00      0.00      0.00         1\n",
            "         Virtuous       0.00      0.00      0.00         1\n",
            "\n",
            "        micro avg       0.50      0.07      0.12        15\n",
            "        macro avg       0.06      0.03      0.04        15\n",
            "     weighted avg       0.13      0.07      0.09        15\n",
            "      samples avg       0.07      0.07      0.07        15\n",
            "\n"
          ]
        },
        {
          "output_type": "stream",
          "name": "stderr",
          "text": [
            "/usr/local/lib/python3.10/dist-packages/sklearn/metrics/_classification.py:1531: UndefinedMetricWarning: Precision is ill-defined and being set to 0.0 in labels with no predicted samples. Use `zero_division` parameter to control this behavior.\n",
            "  _warn_prf(average, modifier, f\"{metric.capitalize()} is\", len(result))\n",
            "/usr/local/lib/python3.10/dist-packages/sklearn/metrics/_classification.py:1531: UndefinedMetricWarning: Recall is ill-defined and being set to 0.0 in labels with no true samples. Use `zero_division` parameter to control this behavior.\n",
            "  _warn_prf(average, modifier, f\"{metric.capitalize()} is\", len(result))\n",
            "/usr/local/lib/python3.10/dist-packages/sklearn/metrics/_classification.py:1531: UndefinedMetricWarning: F-score is ill-defined and being set to 0.0 in labels with no true nor predicted samples. Use `zero_division` parameter to control this behavior.\n",
            "  _warn_prf(average, modifier, f\"{metric.capitalize()} is\", len(result))\n",
            "/usr/local/lib/python3.10/dist-packages/sklearn/metrics/_classification.py:1531: UndefinedMetricWarning: Precision is ill-defined and being set to 0.0 in labels with no predicted samples. Use `zero_division` parameter to control this behavior.\n",
            "  _warn_prf(average, modifier, f\"{metric.capitalize()} is\", len(result))\n",
            "/usr/local/lib/python3.10/dist-packages/sklearn/metrics/_classification.py:1531: UndefinedMetricWarning: Recall is ill-defined and being set to 0.0 in labels with no true samples. Use `zero_division` parameter to control this behavior.\n",
            "  _warn_prf(average, modifier, f\"{metric.capitalize()} is\", len(result))\n",
            "/usr/local/lib/python3.10/dist-packages/sklearn/metrics/_classification.py:1531: UndefinedMetricWarning: F-score is ill-defined and being set to 0.0 in labels with no true nor predicted samples. Use `zero_division` parameter to control this behavior.\n",
            "  _warn_prf(average, modifier, f\"{metric.capitalize()} is\", len(result))\n",
            "/usr/local/lib/python3.10/dist-packages/sklearn/metrics/_classification.py:1531: UndefinedMetricWarning: Precision is ill-defined and being set to 0.0 in samples with no predicted labels. Use `zero_division` parameter to control this behavior.\n",
            "  _warn_prf(average, modifier, f\"{metric.capitalize()} is\", len(result))\n"
          ]
        }
      ]
    },
    {
      "cell_type": "markdown",
      "source": [
        "Step 5: Use Models for Prediction"
      ],
      "metadata": {
        "id": "f28imKMD5kJ6"
      }
    },
    {
      "cell_type": "code",
      "source": [
        "def predict_fine_grained_with_taxonomy(model, new_data, tfidf_vectorizer, role_encoder, mlb, fine_grained_taxonomy, label_mapping):\n",
        "    # Ensure required columns exist\n",
        "    required_columns = ['article_text', 'predicted_main_role']\n",
        "    missing_columns = [col for col in required_columns if col not in new_data.columns]\n",
        "    if missing_columns:\n",
        "        raise ValueError(f\"The following columns are missing from new_data: {missing_columns}\")\n",
        "\n",
        "    # Generate features\n",
        "    text_features = tfidf_vectorizer.transform(new_data['article_text'])\n",
        "    role_features = role_encoder.transform(new_data['predicted_main_role'].values.reshape(-1, 1))\n",
        "    features = hstack([text_features, role_features])\n",
        "\n",
        "    # Predict fine-grained roles\n",
        "    fine_grained_binary_preds = model.predict(features)\n",
        "    fine_grained_preds = mlb.inverse_transform(fine_grained_binary_preds)  # Binary to readable roles\n",
        "\n",
        "    # Enforce taxonomy constraints\n",
        "    filtered_preds = []\n",
        "    for i, main_role in enumerate(new_data['predicted_main_role']):\n",
        "        # Convert integer label to string label\n",
        "        main_role_str = {v: k for k, v in label_mapping.items()}[main_role]\n",
        "        valid_roles = fine_grained_taxonomy[main_role_str]  # Get valid roles for this main role\n",
        "        filtered_roles = [role for role in fine_grained_preds[i] if role in valid_roles]\n",
        "        filtered_preds.append(filtered_roles)\n",
        "\n",
        "    return filtered_preds\n",
        "\n",
        "\n",
        "\n",
        "# Example usage with taxonomy enforcement\n",
        "best_model = multi_label_models[\"MLP\"]  # Replace with your best-performing model\n",
        "multi_label_preds = predict_fine_grained_with_taxonomy(\n",
        "    best_model,\n",
        "    test_data,\n",
        "    tfidf_vectorizer,\n",
        "    role_encoder,\n",
        "    mlb,\n",
        "    fine_grained_taxonomy,\n",
        "    label_mapping  # Pass the label mapping dictionary\n",
        ")\n",
        "\n",
        "# Add filtered predictions to test data\n",
        "test_data[\"predicted_fine_grained_roles\"] = multi_label_preds\n",
        "print(test_data[[\"article_id\", \"entity_mention\", \"predicted_main_role\", \"predicted_fine_grained_roles\"]])"
      ],
      "metadata": {
        "colab": {
          "base_uri": "https://localhost:8080/"
        },
        "id": "9wuNX0VG5kie",
        "outputId": "2dd7cc93-cc52-4fc2-e49e-ecff61f937e3"
      },
      "execution_count": 14,
      "outputs": [
        {
          "output_type": "stream",
          "name": "stdout",
          "text": [
            "           article_id                        entity_mention  \\\n",
            "69   EN_CC_100076.txt                               Reuters   \n",
            "616  EN_CC_200116.txt                      Pierre Poilievre   \n",
            "651  EN_UA_011260.txt                               Ukraine   \n",
            "250  EN_UA_010091.txt                                Europe   \n",
            "603  EN_UA_028520.txt                          Viktor Orbán   \n",
            "..                ...                                   ...   \n",
            "210  EN_UA_016012.txt                             Zinchenko   \n",
            "310  EN_CC_300064.txt  'Letzte Generation' (Last Generation   \n",
            "10   EN_UA_014637.txt                     Yevgeny Prigozhin   \n",
            "211  EN_UA_016012.txt                    Wladimir Klitschko   \n",
            "120  EN_UA_102990.txt                                Russia   \n",
            "\n",
            "     predicted_main_role predicted_fine_grained_roles  \n",
            "69                     1                           []  \n",
            "616                    1                           []  \n",
            "651                    0                           []  \n",
            "250                    0                           []  \n",
            "603                    0                           []  \n",
            "..                   ...                          ...  \n",
            "210                    1                           []  \n",
            "310                    1     [Conspirator, Terrorist]  \n",
            "10                     1                    [Corrupt]  \n",
            "211                    0                     [Martyr]  \n",
            "120                    1                           []  \n",
            "\n",
            "[69 rows x 4 columns]\n"
          ]
        }
      ]
    },
    {
      "cell_type": "markdown",
      "source": [
        "Step 6: Evaluate Multi-Label Predictions"
      ],
      "metadata": {
        "id": "ImFZ8QqjcY3Y"
      }
    },
    {
      "cell_type": "code",
      "source": [
        "from sklearn.metrics import hamming_loss, accuracy_score, precision_score, recall_score, f1_score\n",
        "\n",
        "# Evaluate multi-label predictions\n",
        "print(\"Hamming Loss:\", hamming_loss(y_test_fine, y_pred))\n",
        "print(\"Exact Match Ratio (Subset Accuracy):\", accuracy_score(y_test_fine, y_pred))\n",
        "\n",
        "# Macro Precision, Recall, F1-Score\n",
        "precision = precision_score(y_test_fine, y_pred, average='macro')\n",
        "recall = recall_score(y_test_fine, y_pred, average='macro')\n",
        "f1 = f1_score(y_test_fine, y_pred, average='macro')\n",
        "print(f\"Macro Precision: {precision:.4f}, Recall: {recall:.4f}, F1-Score: {f1:.4f}\")\n"
      ],
      "metadata": {
        "colab": {
          "base_uri": "https://localhost:8080/"
        },
        "id": "wD6zFnSbcYkD",
        "outputId": "aa455ee1-fa8b-4661-93be-15e8221a9675"
      },
      "execution_count": 15,
      "outputs": [
        {
          "output_type": "stream",
          "name": "stdout",
          "text": [
            "Hamming Loss: 0.05952380952380952\n",
            "Exact Match Ratio (Subset Accuracy): 0.07142857142857142\n",
            "Macro Precision: 0.0556, Recall: 0.0278, F1-Score: 0.0370\n"
          ]
        },
        {
          "output_type": "stream",
          "name": "stderr",
          "text": [
            "/usr/local/lib/python3.10/dist-packages/sklearn/metrics/_classification.py:1531: UndefinedMetricWarning: Precision is ill-defined and being set to 0.0 in labels with no predicted samples. Use `zero_division` parameter to control this behavior.\n",
            "  _warn_prf(average, modifier, f\"{metric.capitalize()} is\", len(result))\n",
            "/usr/local/lib/python3.10/dist-packages/sklearn/metrics/_classification.py:1531: UndefinedMetricWarning: Recall is ill-defined and being set to 0.0 in labels with no true samples. Use `zero_division` parameter to control this behavior.\n",
            "  _warn_prf(average, modifier, f\"{metric.capitalize()} is\", len(result))\n",
            "/usr/local/lib/python3.10/dist-packages/sklearn/metrics/_classification.py:1531: UndefinedMetricWarning: F-score is ill-defined and being set to 0.0 in labels with no true nor predicted samples. Use `zero_division` parameter to control this behavior.\n",
            "  _warn_prf(average, modifier, f\"{metric.capitalize()} is\", len(result))\n"
          ]
        }
      ]
    }
  ]
}